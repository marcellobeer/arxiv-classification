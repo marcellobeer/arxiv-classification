{
  "nbformat": 4,
  "nbformat_minor": 0,
  "metadata": {
    "colab": {
      "provenance": [],
      "authorship_tag": "ABX9TyPHbq1eqmOZK/Eak4CPg078",
      "include_colab_link": true
    },
    "kernelspec": {
      "name": "python3",
      "display_name": "Python 3"
    },
    "language_info": {
      "name": "python"
    },
    "widgets": {
      "application/vnd.jupyter.widget-state+json": {
        "1593c1a9c1c4450c8b32c420fa83f0d1": {
          "model_module": "@jupyter-widgets/controls",
          "model_name": "HBoxModel",
          "model_module_version": "1.5.0",
          "state": {
            "_dom_classes": [],
            "_model_module": "@jupyter-widgets/controls",
            "_model_module_version": "1.5.0",
            "_model_name": "HBoxModel",
            "_view_count": null,
            "_view_module": "@jupyter-widgets/controls",
            "_view_module_version": "1.5.0",
            "_view_name": "HBoxView",
            "box_style": "",
            "children": [
              "IPY_MODEL_559b567f49024fafb405087107779009",
              "IPY_MODEL_f068a3cbce3344cbb45688c0bde2494a",
              "IPY_MODEL_19ae83848f1a4c62bd69494f0075e6b9"
            ],
            "layout": "IPY_MODEL_f8ecb5aa3aba4cc2ac76060c9d06ebde"
          }
        },
        "559b567f49024fafb405087107779009": {
          "model_module": "@jupyter-widgets/controls",
          "model_name": "HTMLModel",
          "model_module_version": "1.5.0",
          "state": {
            "_dom_classes": [],
            "_model_module": "@jupyter-widgets/controls",
            "_model_module_version": "1.5.0",
            "_model_name": "HTMLModel",
            "_view_count": null,
            "_view_module": "@jupyter-widgets/controls",
            "_view_module_version": "1.5.0",
            "_view_name": "HTMLView",
            "description": "",
            "description_tooltip": null,
            "layout": "IPY_MODEL_824328d0950041cd85f127f621f9f414",
            "placeholder": "​",
            "style": "IPY_MODEL_657cf245e47840c5990e6f77972290f2",
            "value": "config.json: 100%"
          }
        },
        "f068a3cbce3344cbb45688c0bde2494a": {
          "model_module": "@jupyter-widgets/controls",
          "model_name": "FloatProgressModel",
          "model_module_version": "1.5.0",
          "state": {
            "_dom_classes": [],
            "_model_module": "@jupyter-widgets/controls",
            "_model_module_version": "1.5.0",
            "_model_name": "FloatProgressModel",
            "_view_count": null,
            "_view_module": "@jupyter-widgets/controls",
            "_view_module_version": "1.5.0",
            "_view_name": "ProgressView",
            "bar_style": "success",
            "description": "",
            "description_tooltip": null,
            "layout": "IPY_MODEL_4986e0730757429492207d1fa4509c7d",
            "max": 385,
            "min": 0,
            "orientation": "horizontal",
            "style": "IPY_MODEL_219c60ced4104b04a0fccaefda77bd47",
            "value": 385
          }
        },
        "19ae83848f1a4c62bd69494f0075e6b9": {
          "model_module": "@jupyter-widgets/controls",
          "model_name": "HTMLModel",
          "model_module_version": "1.5.0",
          "state": {
            "_dom_classes": [],
            "_model_module": "@jupyter-widgets/controls",
            "_model_module_version": "1.5.0",
            "_model_name": "HTMLModel",
            "_view_count": null,
            "_view_module": "@jupyter-widgets/controls",
            "_view_module_version": "1.5.0",
            "_view_name": "HTMLView",
            "description": "",
            "description_tooltip": null,
            "layout": "IPY_MODEL_ea20471d36fb4af3a168abd80384052d",
            "placeholder": "​",
            "style": "IPY_MODEL_3e2c47c60450442ca5058ed2de0a7b19",
            "value": " 385/385 [00:00&lt;00:00, 23.5kB/s]"
          }
        },
        "f8ecb5aa3aba4cc2ac76060c9d06ebde": {
          "model_module": "@jupyter-widgets/base",
          "model_name": "LayoutModel",
          "model_module_version": "1.2.0",
          "state": {
            "_model_module": "@jupyter-widgets/base",
            "_model_module_version": "1.2.0",
            "_model_name": "LayoutModel",
            "_view_count": null,
            "_view_module": "@jupyter-widgets/base",
            "_view_module_version": "1.2.0",
            "_view_name": "LayoutView",
            "align_content": null,
            "align_items": null,
            "align_self": null,
            "border": null,
            "bottom": null,
            "display": null,
            "flex": null,
            "flex_flow": null,
            "grid_area": null,
            "grid_auto_columns": null,
            "grid_auto_flow": null,
            "grid_auto_rows": null,
            "grid_column": null,
            "grid_gap": null,
            "grid_row": null,
            "grid_template_areas": null,
            "grid_template_columns": null,
            "grid_template_rows": null,
            "height": null,
            "justify_content": null,
            "justify_items": null,
            "left": null,
            "margin": null,
            "max_height": null,
            "max_width": null,
            "min_height": null,
            "min_width": null,
            "object_fit": null,
            "object_position": null,
            "order": null,
            "overflow": null,
            "overflow_x": null,
            "overflow_y": null,
            "padding": null,
            "right": null,
            "top": null,
            "visibility": null,
            "width": null
          }
        },
        "824328d0950041cd85f127f621f9f414": {
          "model_module": "@jupyter-widgets/base",
          "model_name": "LayoutModel",
          "model_module_version": "1.2.0",
          "state": {
            "_model_module": "@jupyter-widgets/base",
            "_model_module_version": "1.2.0",
            "_model_name": "LayoutModel",
            "_view_count": null,
            "_view_module": "@jupyter-widgets/base",
            "_view_module_version": "1.2.0",
            "_view_name": "LayoutView",
            "align_content": null,
            "align_items": null,
            "align_self": null,
            "border": null,
            "bottom": null,
            "display": null,
            "flex": null,
            "flex_flow": null,
            "grid_area": null,
            "grid_auto_columns": null,
            "grid_auto_flow": null,
            "grid_auto_rows": null,
            "grid_column": null,
            "grid_gap": null,
            "grid_row": null,
            "grid_template_areas": null,
            "grid_template_columns": null,
            "grid_template_rows": null,
            "height": null,
            "justify_content": null,
            "justify_items": null,
            "left": null,
            "margin": null,
            "max_height": null,
            "max_width": null,
            "min_height": null,
            "min_width": null,
            "object_fit": null,
            "object_position": null,
            "order": null,
            "overflow": null,
            "overflow_x": null,
            "overflow_y": null,
            "padding": null,
            "right": null,
            "top": null,
            "visibility": null,
            "width": null
          }
        },
        "657cf245e47840c5990e6f77972290f2": {
          "model_module": "@jupyter-widgets/controls",
          "model_name": "DescriptionStyleModel",
          "model_module_version": "1.5.0",
          "state": {
            "_model_module": "@jupyter-widgets/controls",
            "_model_module_version": "1.5.0",
            "_model_name": "DescriptionStyleModel",
            "_view_count": null,
            "_view_module": "@jupyter-widgets/base",
            "_view_module_version": "1.2.0",
            "_view_name": "StyleView",
            "description_width": ""
          }
        },
        "4986e0730757429492207d1fa4509c7d": {
          "model_module": "@jupyter-widgets/base",
          "model_name": "LayoutModel",
          "model_module_version": "1.2.0",
          "state": {
            "_model_module": "@jupyter-widgets/base",
            "_model_module_version": "1.2.0",
            "_model_name": "LayoutModel",
            "_view_count": null,
            "_view_module": "@jupyter-widgets/base",
            "_view_module_version": "1.2.0",
            "_view_name": "LayoutView",
            "align_content": null,
            "align_items": null,
            "align_self": null,
            "border": null,
            "bottom": null,
            "display": null,
            "flex": null,
            "flex_flow": null,
            "grid_area": null,
            "grid_auto_columns": null,
            "grid_auto_flow": null,
            "grid_auto_rows": null,
            "grid_column": null,
            "grid_gap": null,
            "grid_row": null,
            "grid_template_areas": null,
            "grid_template_columns": null,
            "grid_template_rows": null,
            "height": null,
            "justify_content": null,
            "justify_items": null,
            "left": null,
            "margin": null,
            "max_height": null,
            "max_width": null,
            "min_height": null,
            "min_width": null,
            "object_fit": null,
            "object_position": null,
            "order": null,
            "overflow": null,
            "overflow_x": null,
            "overflow_y": null,
            "padding": null,
            "right": null,
            "top": null,
            "visibility": null,
            "width": null
          }
        },
        "219c60ced4104b04a0fccaefda77bd47": {
          "model_module": "@jupyter-widgets/controls",
          "model_name": "ProgressStyleModel",
          "model_module_version": "1.5.0",
          "state": {
            "_model_module": "@jupyter-widgets/controls",
            "_model_module_version": "1.5.0",
            "_model_name": "ProgressStyleModel",
            "_view_count": null,
            "_view_module": "@jupyter-widgets/base",
            "_view_module_version": "1.2.0",
            "_view_name": "StyleView",
            "bar_color": null,
            "description_width": ""
          }
        },
        "ea20471d36fb4af3a168abd80384052d": {
          "model_module": "@jupyter-widgets/base",
          "model_name": "LayoutModel",
          "model_module_version": "1.2.0",
          "state": {
            "_model_module": "@jupyter-widgets/base",
            "_model_module_version": "1.2.0",
            "_model_name": "LayoutModel",
            "_view_count": null,
            "_view_module": "@jupyter-widgets/base",
            "_view_module_version": "1.2.0",
            "_view_name": "LayoutView",
            "align_content": null,
            "align_items": null,
            "align_self": null,
            "border": null,
            "bottom": null,
            "display": null,
            "flex": null,
            "flex_flow": null,
            "grid_area": null,
            "grid_auto_columns": null,
            "grid_auto_flow": null,
            "grid_auto_rows": null,
            "grid_column": null,
            "grid_gap": null,
            "grid_row": null,
            "grid_template_areas": null,
            "grid_template_columns": null,
            "grid_template_rows": null,
            "height": null,
            "justify_content": null,
            "justify_items": null,
            "left": null,
            "margin": null,
            "max_height": null,
            "max_width": null,
            "min_height": null,
            "min_width": null,
            "object_fit": null,
            "object_position": null,
            "order": null,
            "overflow": null,
            "overflow_x": null,
            "overflow_y": null,
            "padding": null,
            "right": null,
            "top": null,
            "visibility": null,
            "width": null
          }
        },
        "3e2c47c60450442ca5058ed2de0a7b19": {
          "model_module": "@jupyter-widgets/controls",
          "model_name": "DescriptionStyleModel",
          "model_module_version": "1.5.0",
          "state": {
            "_model_module": "@jupyter-widgets/controls",
            "_model_module_version": "1.5.0",
            "_model_name": "DescriptionStyleModel",
            "_view_count": null,
            "_view_module": "@jupyter-widgets/base",
            "_view_module_version": "1.2.0",
            "_view_name": "StyleView",
            "description_width": ""
          }
        },
        "7e1db2ee34da48589f39d82f5178bb6f": {
          "model_module": "@jupyter-widgets/controls",
          "model_name": "HBoxModel",
          "model_module_version": "1.5.0",
          "state": {
            "_dom_classes": [],
            "_model_module": "@jupyter-widgets/controls",
            "_model_module_version": "1.5.0",
            "_model_name": "HBoxModel",
            "_view_count": null,
            "_view_module": "@jupyter-widgets/controls",
            "_view_module_version": "1.5.0",
            "_view_name": "HBoxView",
            "box_style": "",
            "children": [
              "IPY_MODEL_9e8d6b81f26f48298f9ea150da2d38b2",
              "IPY_MODEL_ca0c7dd740b4473d9a356254359abf99",
              "IPY_MODEL_7e19dabafbf54975bc82d4f4ef849ab7"
            ],
            "layout": "IPY_MODEL_67a099115fc0437185b1b30bf9d03a11"
          }
        },
        "9e8d6b81f26f48298f9ea150da2d38b2": {
          "model_module": "@jupyter-widgets/controls",
          "model_name": "HTMLModel",
          "model_module_version": "1.5.0",
          "state": {
            "_dom_classes": [],
            "_model_module": "@jupyter-widgets/controls",
            "_model_module_version": "1.5.0",
            "_model_name": "HTMLModel",
            "_view_count": null,
            "_view_module": "@jupyter-widgets/controls",
            "_view_module_version": "1.5.0",
            "_view_name": "HTMLView",
            "description": "",
            "description_tooltip": null,
            "layout": "IPY_MODEL_3dda5288c95f4360b17723eb780b7435",
            "placeholder": "​",
            "style": "IPY_MODEL_792a74f768e54df89bfe4fb735750897",
            "value": "vocab.txt: 100%"
          }
        },
        "ca0c7dd740b4473d9a356254359abf99": {
          "model_module": "@jupyter-widgets/controls",
          "model_name": "FloatProgressModel",
          "model_module_version": "1.5.0",
          "state": {
            "_dom_classes": [],
            "_model_module": "@jupyter-widgets/controls",
            "_model_module_version": "1.5.0",
            "_model_name": "FloatProgressModel",
            "_view_count": null,
            "_view_module": "@jupyter-widgets/controls",
            "_view_module_version": "1.5.0",
            "_view_name": "ProgressView",
            "bar_style": "success",
            "description": "",
            "description_tooltip": null,
            "layout": "IPY_MODEL_b2a899b2e9f34cccb98dc32cfd5bad8c",
            "max": 227845,
            "min": 0,
            "orientation": "horizontal",
            "style": "IPY_MODEL_64d76ba06c554ca2ae3bc60ae4c6c35b",
            "value": 227845
          }
        },
        "7e19dabafbf54975bc82d4f4ef849ab7": {
          "model_module": "@jupyter-widgets/controls",
          "model_name": "HTMLModel",
          "model_module_version": "1.5.0",
          "state": {
            "_dom_classes": [],
            "_model_module": "@jupyter-widgets/controls",
            "_model_module_version": "1.5.0",
            "_model_name": "HTMLModel",
            "_view_count": null,
            "_view_module": "@jupyter-widgets/controls",
            "_view_module_version": "1.5.0",
            "_view_name": "HTMLView",
            "description": "",
            "description_tooltip": null,
            "layout": "IPY_MODEL_8c4b78802a1c42b485f74bbd404d5bca",
            "placeholder": "​",
            "style": "IPY_MODEL_0f06ee88bf9041a5bcfc28b7633d9979",
            "value": " 228k/228k [00:00&lt;00:00, 3.40MB/s]"
          }
        },
        "67a099115fc0437185b1b30bf9d03a11": {
          "model_module": "@jupyter-widgets/base",
          "model_name": "LayoutModel",
          "model_module_version": "1.2.0",
          "state": {
            "_model_module": "@jupyter-widgets/base",
            "_model_module_version": "1.2.0",
            "_model_name": "LayoutModel",
            "_view_count": null,
            "_view_module": "@jupyter-widgets/base",
            "_view_module_version": "1.2.0",
            "_view_name": "LayoutView",
            "align_content": null,
            "align_items": null,
            "align_self": null,
            "border": null,
            "bottom": null,
            "display": null,
            "flex": null,
            "flex_flow": null,
            "grid_area": null,
            "grid_auto_columns": null,
            "grid_auto_flow": null,
            "grid_auto_rows": null,
            "grid_column": null,
            "grid_gap": null,
            "grid_row": null,
            "grid_template_areas": null,
            "grid_template_columns": null,
            "grid_template_rows": null,
            "height": null,
            "justify_content": null,
            "justify_items": null,
            "left": null,
            "margin": null,
            "max_height": null,
            "max_width": null,
            "min_height": null,
            "min_width": null,
            "object_fit": null,
            "object_position": null,
            "order": null,
            "overflow": null,
            "overflow_x": null,
            "overflow_y": null,
            "padding": null,
            "right": null,
            "top": null,
            "visibility": null,
            "width": null
          }
        },
        "3dda5288c95f4360b17723eb780b7435": {
          "model_module": "@jupyter-widgets/base",
          "model_name": "LayoutModel",
          "model_module_version": "1.2.0",
          "state": {
            "_model_module": "@jupyter-widgets/base",
            "_model_module_version": "1.2.0",
            "_model_name": "LayoutModel",
            "_view_count": null,
            "_view_module": "@jupyter-widgets/base",
            "_view_module_version": "1.2.0",
            "_view_name": "LayoutView",
            "align_content": null,
            "align_items": null,
            "align_self": null,
            "border": null,
            "bottom": null,
            "display": null,
            "flex": null,
            "flex_flow": null,
            "grid_area": null,
            "grid_auto_columns": null,
            "grid_auto_flow": null,
            "grid_auto_rows": null,
            "grid_column": null,
            "grid_gap": null,
            "grid_row": null,
            "grid_template_areas": null,
            "grid_template_columns": null,
            "grid_template_rows": null,
            "height": null,
            "justify_content": null,
            "justify_items": null,
            "left": null,
            "margin": null,
            "max_height": null,
            "max_width": null,
            "min_height": null,
            "min_width": null,
            "object_fit": null,
            "object_position": null,
            "order": null,
            "overflow": null,
            "overflow_x": null,
            "overflow_y": null,
            "padding": null,
            "right": null,
            "top": null,
            "visibility": null,
            "width": null
          }
        },
        "792a74f768e54df89bfe4fb735750897": {
          "model_module": "@jupyter-widgets/controls",
          "model_name": "DescriptionStyleModel",
          "model_module_version": "1.5.0",
          "state": {
            "_model_module": "@jupyter-widgets/controls",
            "_model_module_version": "1.5.0",
            "_model_name": "DescriptionStyleModel",
            "_view_count": null,
            "_view_module": "@jupyter-widgets/base",
            "_view_module_version": "1.2.0",
            "_view_name": "StyleView",
            "description_width": ""
          }
        },
        "b2a899b2e9f34cccb98dc32cfd5bad8c": {
          "model_module": "@jupyter-widgets/base",
          "model_name": "LayoutModel",
          "model_module_version": "1.2.0",
          "state": {
            "_model_module": "@jupyter-widgets/base",
            "_model_module_version": "1.2.0",
            "_model_name": "LayoutModel",
            "_view_count": null,
            "_view_module": "@jupyter-widgets/base",
            "_view_module_version": "1.2.0",
            "_view_name": "LayoutView",
            "align_content": null,
            "align_items": null,
            "align_self": null,
            "border": null,
            "bottom": null,
            "display": null,
            "flex": null,
            "flex_flow": null,
            "grid_area": null,
            "grid_auto_columns": null,
            "grid_auto_flow": null,
            "grid_auto_rows": null,
            "grid_column": null,
            "grid_gap": null,
            "grid_row": null,
            "grid_template_areas": null,
            "grid_template_columns": null,
            "grid_template_rows": null,
            "height": null,
            "justify_content": null,
            "justify_items": null,
            "left": null,
            "margin": null,
            "max_height": null,
            "max_width": null,
            "min_height": null,
            "min_width": null,
            "object_fit": null,
            "object_position": null,
            "order": null,
            "overflow": null,
            "overflow_x": null,
            "overflow_y": null,
            "padding": null,
            "right": null,
            "top": null,
            "visibility": null,
            "width": null
          }
        },
        "64d76ba06c554ca2ae3bc60ae4c6c35b": {
          "model_module": "@jupyter-widgets/controls",
          "model_name": "ProgressStyleModel",
          "model_module_version": "1.5.0",
          "state": {
            "_model_module": "@jupyter-widgets/controls",
            "_model_module_version": "1.5.0",
            "_model_name": "ProgressStyleModel",
            "_view_count": null,
            "_view_module": "@jupyter-widgets/base",
            "_view_module_version": "1.2.0",
            "_view_name": "StyleView",
            "bar_color": null,
            "description_width": ""
          }
        },
        "8c4b78802a1c42b485f74bbd404d5bca": {
          "model_module": "@jupyter-widgets/base",
          "model_name": "LayoutModel",
          "model_module_version": "1.2.0",
          "state": {
            "_model_module": "@jupyter-widgets/base",
            "_model_module_version": "1.2.0",
            "_model_name": "LayoutModel",
            "_view_count": null,
            "_view_module": "@jupyter-widgets/base",
            "_view_module_version": "1.2.0",
            "_view_name": "LayoutView",
            "align_content": null,
            "align_items": null,
            "align_self": null,
            "border": null,
            "bottom": null,
            "display": null,
            "flex": null,
            "flex_flow": null,
            "grid_area": null,
            "grid_auto_columns": null,
            "grid_auto_flow": null,
            "grid_auto_rows": null,
            "grid_column": null,
            "grid_gap": null,
            "grid_row": null,
            "grid_template_areas": null,
            "grid_template_columns": null,
            "grid_template_rows": null,
            "height": null,
            "justify_content": null,
            "justify_items": null,
            "left": null,
            "margin": null,
            "max_height": null,
            "max_width": null,
            "min_height": null,
            "min_width": null,
            "object_fit": null,
            "object_position": null,
            "order": null,
            "overflow": null,
            "overflow_x": null,
            "overflow_y": null,
            "padding": null,
            "right": null,
            "top": null,
            "visibility": null,
            "width": null
          }
        },
        "0f06ee88bf9041a5bcfc28b7633d9979": {
          "model_module": "@jupyter-widgets/controls",
          "model_name": "DescriptionStyleModel",
          "model_module_version": "1.5.0",
          "state": {
            "_model_module": "@jupyter-widgets/controls",
            "_model_module_version": "1.5.0",
            "_model_name": "DescriptionStyleModel",
            "_view_count": null,
            "_view_module": "@jupyter-widgets/base",
            "_view_module_version": "1.2.0",
            "_view_name": "StyleView",
            "description_width": ""
          }
        },
        "5b21b41b82a94ec88f79eecf3c9b4984": {
          "model_module": "@jupyter-widgets/controls",
          "model_name": "HBoxModel",
          "model_module_version": "1.5.0",
          "state": {
            "_dom_classes": [],
            "_model_module": "@jupyter-widgets/controls",
            "_model_module_version": "1.5.0",
            "_model_name": "HBoxModel",
            "_view_count": null,
            "_view_module": "@jupyter-widgets/controls",
            "_view_module_version": "1.5.0",
            "_view_name": "HBoxView",
            "box_style": "",
            "children": [
              "IPY_MODEL_b106334737fc4b769b0a6030d8250e06",
              "IPY_MODEL_edb72df9361449a6a642fd6e5007042c",
              "IPY_MODEL_ad7db83a76804fbaafe4fafc591ddc48"
            ],
            "layout": "IPY_MODEL_c49bc4f0463a4051911c720a31e4351b"
          }
        },
        "b106334737fc4b769b0a6030d8250e06": {
          "model_module": "@jupyter-widgets/controls",
          "model_name": "HTMLModel",
          "model_module_version": "1.5.0",
          "state": {
            "_dom_classes": [],
            "_model_module": "@jupyter-widgets/controls",
            "_model_module_version": "1.5.0",
            "_model_name": "HTMLModel",
            "_view_count": null,
            "_view_module": "@jupyter-widgets/controls",
            "_view_module_version": "1.5.0",
            "_view_name": "HTMLView",
            "description": "",
            "description_tooltip": null,
            "layout": "IPY_MODEL_9b40cb9e6f804f25b87f7165b47abcec",
            "placeholder": "​",
            "style": "IPY_MODEL_6d9b1f698a7c4e0fb2a30677e3bcd434",
            "value": "pytorch_model.bin: 100%"
          }
        },
        "edb72df9361449a6a642fd6e5007042c": {
          "model_module": "@jupyter-widgets/controls",
          "model_name": "FloatProgressModel",
          "model_module_version": "1.5.0",
          "state": {
            "_dom_classes": [],
            "_model_module": "@jupyter-widgets/controls",
            "_model_module_version": "1.5.0",
            "_model_name": "FloatProgressModel",
            "_view_count": null,
            "_view_module": "@jupyter-widgets/controls",
            "_view_module_version": "1.5.0",
            "_view_name": "ProgressView",
            "bar_style": "success",
            "description": "",
            "description_tooltip": null,
            "layout": "IPY_MODEL_c2596fa5651d4f84b342030136b819bf",
            "max": 442221694,
            "min": 0,
            "orientation": "horizontal",
            "style": "IPY_MODEL_813f0732308c4715b5d6abf02afed9cb",
            "value": 442221694
          }
        },
        "ad7db83a76804fbaafe4fafc591ddc48": {
          "model_module": "@jupyter-widgets/controls",
          "model_name": "HTMLModel",
          "model_module_version": "1.5.0",
          "state": {
            "_dom_classes": [],
            "_model_module": "@jupyter-widgets/controls",
            "_model_module_version": "1.5.0",
            "_model_name": "HTMLModel",
            "_view_count": null,
            "_view_module": "@jupyter-widgets/controls",
            "_view_module_version": "1.5.0",
            "_view_name": "HTMLView",
            "description": "",
            "description_tooltip": null,
            "layout": "IPY_MODEL_cd29fe058859452eb792220628cbe6c8",
            "placeholder": "​",
            "style": "IPY_MODEL_609281a83cef4209b6aee03bcbceab5a",
            "value": " 442M/442M [00:04&lt;00:00, 115MB/s]"
          }
        },
        "c49bc4f0463a4051911c720a31e4351b": {
          "model_module": "@jupyter-widgets/base",
          "model_name": "LayoutModel",
          "model_module_version": "1.2.0",
          "state": {
            "_model_module": "@jupyter-widgets/base",
            "_model_module_version": "1.2.0",
            "_model_name": "LayoutModel",
            "_view_count": null,
            "_view_module": "@jupyter-widgets/base",
            "_view_module_version": "1.2.0",
            "_view_name": "LayoutView",
            "align_content": null,
            "align_items": null,
            "align_self": null,
            "border": null,
            "bottom": null,
            "display": null,
            "flex": null,
            "flex_flow": null,
            "grid_area": null,
            "grid_auto_columns": null,
            "grid_auto_flow": null,
            "grid_auto_rows": null,
            "grid_column": null,
            "grid_gap": null,
            "grid_row": null,
            "grid_template_areas": null,
            "grid_template_columns": null,
            "grid_template_rows": null,
            "height": null,
            "justify_content": null,
            "justify_items": null,
            "left": null,
            "margin": null,
            "max_height": null,
            "max_width": null,
            "min_height": null,
            "min_width": null,
            "object_fit": null,
            "object_position": null,
            "order": null,
            "overflow": null,
            "overflow_x": null,
            "overflow_y": null,
            "padding": null,
            "right": null,
            "top": null,
            "visibility": null,
            "width": null
          }
        },
        "9b40cb9e6f804f25b87f7165b47abcec": {
          "model_module": "@jupyter-widgets/base",
          "model_name": "LayoutModel",
          "model_module_version": "1.2.0",
          "state": {
            "_model_module": "@jupyter-widgets/base",
            "_model_module_version": "1.2.0",
            "_model_name": "LayoutModel",
            "_view_count": null,
            "_view_module": "@jupyter-widgets/base",
            "_view_module_version": "1.2.0",
            "_view_name": "LayoutView",
            "align_content": null,
            "align_items": null,
            "align_self": null,
            "border": null,
            "bottom": null,
            "display": null,
            "flex": null,
            "flex_flow": null,
            "grid_area": null,
            "grid_auto_columns": null,
            "grid_auto_flow": null,
            "grid_auto_rows": null,
            "grid_column": null,
            "grid_gap": null,
            "grid_row": null,
            "grid_template_areas": null,
            "grid_template_columns": null,
            "grid_template_rows": null,
            "height": null,
            "justify_content": null,
            "justify_items": null,
            "left": null,
            "margin": null,
            "max_height": null,
            "max_width": null,
            "min_height": null,
            "min_width": null,
            "object_fit": null,
            "object_position": null,
            "order": null,
            "overflow": null,
            "overflow_x": null,
            "overflow_y": null,
            "padding": null,
            "right": null,
            "top": null,
            "visibility": null,
            "width": null
          }
        },
        "6d9b1f698a7c4e0fb2a30677e3bcd434": {
          "model_module": "@jupyter-widgets/controls",
          "model_name": "DescriptionStyleModel",
          "model_module_version": "1.5.0",
          "state": {
            "_model_module": "@jupyter-widgets/controls",
            "_model_module_version": "1.5.0",
            "_model_name": "DescriptionStyleModel",
            "_view_count": null,
            "_view_module": "@jupyter-widgets/base",
            "_view_module_version": "1.2.0",
            "_view_name": "StyleView",
            "description_width": ""
          }
        },
        "c2596fa5651d4f84b342030136b819bf": {
          "model_module": "@jupyter-widgets/base",
          "model_name": "LayoutModel",
          "model_module_version": "1.2.0",
          "state": {
            "_model_module": "@jupyter-widgets/base",
            "_model_module_version": "1.2.0",
            "_model_name": "LayoutModel",
            "_view_count": null,
            "_view_module": "@jupyter-widgets/base",
            "_view_module_version": "1.2.0",
            "_view_name": "LayoutView",
            "align_content": null,
            "align_items": null,
            "align_self": null,
            "border": null,
            "bottom": null,
            "display": null,
            "flex": null,
            "flex_flow": null,
            "grid_area": null,
            "grid_auto_columns": null,
            "grid_auto_flow": null,
            "grid_auto_rows": null,
            "grid_column": null,
            "grid_gap": null,
            "grid_row": null,
            "grid_template_areas": null,
            "grid_template_columns": null,
            "grid_template_rows": null,
            "height": null,
            "justify_content": null,
            "justify_items": null,
            "left": null,
            "margin": null,
            "max_height": null,
            "max_width": null,
            "min_height": null,
            "min_width": null,
            "object_fit": null,
            "object_position": null,
            "order": null,
            "overflow": null,
            "overflow_x": null,
            "overflow_y": null,
            "padding": null,
            "right": null,
            "top": null,
            "visibility": null,
            "width": null
          }
        },
        "813f0732308c4715b5d6abf02afed9cb": {
          "model_module": "@jupyter-widgets/controls",
          "model_name": "ProgressStyleModel",
          "model_module_version": "1.5.0",
          "state": {
            "_model_module": "@jupyter-widgets/controls",
            "_model_module_version": "1.5.0",
            "_model_name": "ProgressStyleModel",
            "_view_count": null,
            "_view_module": "@jupyter-widgets/base",
            "_view_module_version": "1.2.0",
            "_view_name": "StyleView",
            "bar_color": null,
            "description_width": ""
          }
        },
        "cd29fe058859452eb792220628cbe6c8": {
          "model_module": "@jupyter-widgets/base",
          "model_name": "LayoutModel",
          "model_module_version": "1.2.0",
          "state": {
            "_model_module": "@jupyter-widgets/base",
            "_model_module_version": "1.2.0",
            "_model_name": "LayoutModel",
            "_view_count": null,
            "_view_module": "@jupyter-widgets/base",
            "_view_module_version": "1.2.0",
            "_view_name": "LayoutView",
            "align_content": null,
            "align_items": null,
            "align_self": null,
            "border": null,
            "bottom": null,
            "display": null,
            "flex": null,
            "flex_flow": null,
            "grid_area": null,
            "grid_auto_columns": null,
            "grid_auto_flow": null,
            "grid_auto_rows": null,
            "grid_column": null,
            "grid_gap": null,
            "grid_row": null,
            "grid_template_areas": null,
            "grid_template_columns": null,
            "grid_template_rows": null,
            "height": null,
            "justify_content": null,
            "justify_items": null,
            "left": null,
            "margin": null,
            "max_height": null,
            "max_width": null,
            "min_height": null,
            "min_width": null,
            "object_fit": null,
            "object_position": null,
            "order": null,
            "overflow": null,
            "overflow_x": null,
            "overflow_y": null,
            "padding": null,
            "right": null,
            "top": null,
            "visibility": null,
            "width": null
          }
        },
        "609281a83cef4209b6aee03bcbceab5a": {
          "model_module": "@jupyter-widgets/controls",
          "model_name": "DescriptionStyleModel",
          "model_module_version": "1.5.0",
          "state": {
            "_model_module": "@jupyter-widgets/controls",
            "_model_module_version": "1.5.0",
            "_model_name": "DescriptionStyleModel",
            "_view_count": null,
            "_view_module": "@jupyter-widgets/base",
            "_view_module_version": "1.2.0",
            "_view_name": "StyleView",
            "description_width": ""
          }
        }
      }
    }
  },
  "cells": [
    {
      "cell_type": "markdown",
      "metadata": {
        "id": "view-in-github",
        "colab_type": "text"
      },
      "source": [
        "<a href=\"https://colab.research.google.com/github/marcellobeer/arxiv-classification/blob/main/arxiv_classification.ipynb\" target=\"_parent\"><img src=\"https://colab.research.google.com/assets/colab-badge.svg\" alt=\"Open In Colab\"/></a>"
      ]
    },
    {
      "cell_type": "code",
      "source": [
        "# Install required packages\n",
        "!pip install arxiv transformers tqdm"
      ],
      "metadata": {
        "colab": {
          "base_uri": "https://localhost:8080/"
        },
        "collapsed": true,
        "id": "T6dUMJNRv0c0",
        "outputId": "0e8c70f4-38bd-49be-ce1e-cc04f197c62c"
      },
      "execution_count": 4,
      "outputs": [
        {
          "output_type": "stream",
          "name": "stdout",
          "text": [
            "Collecting arxiv\n",
            "  Downloading arxiv-2.1.3-py3-none-any.whl.metadata (6.1 kB)\n",
            "Requirement already satisfied: transformers in /usr/local/lib/python3.10/dist-packages (4.46.2)\n",
            "Requirement already satisfied: tqdm in /usr/local/lib/python3.10/dist-packages (4.66.6)\n",
            "Collecting feedparser~=6.0.10 (from arxiv)\n",
            "  Downloading feedparser-6.0.11-py3-none-any.whl.metadata (2.4 kB)\n",
            "Requirement already satisfied: requests~=2.32.0 in /usr/local/lib/python3.10/dist-packages (from arxiv) (2.32.3)\n",
            "Requirement already satisfied: filelock in /usr/local/lib/python3.10/dist-packages (from transformers) (3.16.1)\n",
            "Requirement already satisfied: huggingface-hub<1.0,>=0.23.2 in /usr/local/lib/python3.10/dist-packages (from transformers) (0.26.2)\n",
            "Requirement already satisfied: numpy>=1.17 in /usr/local/lib/python3.10/dist-packages (from transformers) (1.26.4)\n",
            "Requirement already satisfied: packaging>=20.0 in /usr/local/lib/python3.10/dist-packages (from transformers) (24.2)\n",
            "Requirement already satisfied: pyyaml>=5.1 in /usr/local/lib/python3.10/dist-packages (from transformers) (6.0.2)\n",
            "Requirement already satisfied: regex!=2019.12.17 in /usr/local/lib/python3.10/dist-packages (from transformers) (2024.9.11)\n",
            "Requirement already satisfied: safetensors>=0.4.1 in /usr/local/lib/python3.10/dist-packages (from transformers) (0.4.5)\n",
            "Requirement already satisfied: tokenizers<0.21,>=0.20 in /usr/local/lib/python3.10/dist-packages (from transformers) (0.20.3)\n",
            "Collecting sgmllib3k (from feedparser~=6.0.10->arxiv)\n",
            "  Downloading sgmllib3k-1.0.0.tar.gz (5.8 kB)\n",
            "  Preparing metadata (setup.py) ... \u001b[?25l\u001b[?25hdone\n",
            "Requirement already satisfied: fsspec>=2023.5.0 in /usr/local/lib/python3.10/dist-packages (from huggingface-hub<1.0,>=0.23.2->transformers) (2024.10.0)\n",
            "Requirement already satisfied: typing-extensions>=3.7.4.3 in /usr/local/lib/python3.10/dist-packages (from huggingface-hub<1.0,>=0.23.2->transformers) (4.12.2)\n",
            "Requirement already satisfied: charset-normalizer<4,>=2 in /usr/local/lib/python3.10/dist-packages (from requests~=2.32.0->arxiv) (3.4.0)\n",
            "Requirement already satisfied: idna<4,>=2.5 in /usr/local/lib/python3.10/dist-packages (from requests~=2.32.0->arxiv) (3.10)\n",
            "Requirement already satisfied: urllib3<3,>=1.21.1 in /usr/local/lib/python3.10/dist-packages (from requests~=2.32.0->arxiv) (2.2.3)\n",
            "Requirement already satisfied: certifi>=2017.4.17 in /usr/local/lib/python3.10/dist-packages (from requests~=2.32.0->arxiv) (2024.8.30)\n",
            "Downloading arxiv-2.1.3-py3-none-any.whl (11 kB)\n",
            "Downloading feedparser-6.0.11-py3-none-any.whl (81 kB)\n",
            "\u001b[2K   \u001b[90m━━━━━━━━━━━━━━━━━━━━━━━━━━━━━━━━━━━━━━━━\u001b[0m \u001b[32m81.3/81.3 kB\u001b[0m \u001b[31m2.9 MB/s\u001b[0m eta \u001b[36m0:00:00\u001b[0m\n",
            "\u001b[?25hBuilding wheels for collected packages: sgmllib3k\n",
            "  Building wheel for sgmllib3k (setup.py) ... \u001b[?25l\u001b[?25hdone\n",
            "  Created wheel for sgmllib3k: filename=sgmllib3k-1.0.0-py3-none-any.whl size=6047 sha256=7c228f143ed49b193bf9f16959ad8fc7d7693b56dbc76fbfd6f4184f8bb5e443\n",
            "  Stored in directory: /root/.cache/pip/wheels/f0/69/93/a47e9d621be168e9e33c7ce60524393c0b92ae83cf6c6e89c5\n",
            "Successfully built sgmllib3k\n",
            "Installing collected packages: sgmllib3k, feedparser, arxiv\n",
            "Successfully installed arxiv-2.1.3 feedparser-6.0.11 sgmllib3k-1.0.0\n"
          ]
        }
      ]
    },
    {
      "cell_type": "code",
      "execution_count": 5,
      "metadata": {
        "colab": {
          "base_uri": "https://localhost:8080/"
        },
        "id": "cL97d0nLuhwp",
        "outputId": "a43d1b85-e6aa-49e6-f8bf-f9241542d47b"
      },
      "outputs": [
        {
          "output_type": "stream",
          "name": "stdout",
          "text": [
            "Using device: cpu\n"
          ]
        }
      ],
      "source": [
        "import arxiv\n",
        "import pandas as pd\n",
        "import numpy as np\n",
        "import torch\n",
        "from transformers import AutoTokenizer, AutoModel\n",
        "from sklearn.preprocessing import LabelEncoder\n",
        "from sklearn.model_selection import train_test_split, cross_val_score\n",
        "from sklearn.linear_model import LogisticRegression\n",
        "from sklearn.ensemble import RandomForestClassifier\n",
        "from sklearn.neural_network import MLPClassifier\n",
        "from sklearn.metrics import classification_report, accuracy_score\n",
        "import matplotlib.pyplot as plt\n",
        "import seaborn as sns\n",
        "import os\n",
        "import re\n",
        "import time\n",
        "from tqdm import tqdm\n",
        "import pickle\n",
        "%matplotlib inline\n",
        "\n",
        "\n",
        "device = torch.device('cuda' if torch.cuda.is_available() else 'cpu')\n",
        "print(f\"Using device: {device}\")"
      ]
    },
    {
      "cell_type": "code",
      "source": [
        "# Function to load files from GitHub\n",
        "def load_from_github(file_name):\n",
        "    url = f\"https://raw.githubusercontent.com/your_username/arxiv-classification/main/{file_name}\"\n",
        "    response = requests.get(url)\n",
        "    if response.status_code == 200:\n",
        "        if file_name.endswith('.pkl'):\n",
        "            return pickle.loads(response.content)\n",
        "        elif file_name.endswith('.npy'):\n",
        "            return np.load(response.content)\n",
        "        else:\n",
        "            return response.content.decode('utf-8')  # For text files\n",
        "    else:\n",
        "        print(f\"Error loading {file_name} from GitHub: {response.status_code}\")\n",
        "        return None"
      ],
      "metadata": {
        "id": "dh8NolhSa5DJ"
      },
      "execution_count": 11,
      "outputs": []
    },
    {
      "cell_type": "code",
      "source": [
        "   def save_to_github(file_path):\n",
        "       try:\n",
        "           os.system(f'git add {file_path}')\n",
        "           os.system('git commit -m \"Update data files\"')\n",
        "           os.system('git push')\n",
        "       except Exception as e:\n",
        "           print(f\"Error saving to GitHub: {e}\")"
      ],
      "metadata": {
        "id": "Ggzu07B-ZYfj"
      },
      "execution_count": 12,
      "outputs": []
    },
    {
      "cell_type": "code",
      "source": [
        "# Configs\n",
        "class Config:\n",
        "    MODEL_NAME = 'allenai/scibert_scivocab_uncased'\n",
        "    MAX_LENGTH = 512\n",
        "    BATCH_SIZE = 8\n",
        "    TEST_SIZE = 0.2\n",
        "    RANDOM_SEED = 42\n",
        "\n",
        "    # Physics categories\n",
        "    CATEGORIES = {\n",
        "        'astro-ph': 'Astrophysics',\n",
        "        'cond-mat': 'Condensed Matter',\n",
        "        'gr-qc': 'General Relativity and Quantum Cosmology',\n",
        "        'hep-ex': 'High Energy Physics - Experiment',\n",
        "        'hep-lat': 'High Energy Physics - Lattice',\n",
        "        'hep-ph': 'High Energy Physics - Phenomenology',\n",
        "        'hep-th': 'High Energy Physics - Theory',\n",
        "        'math-ph': 'Mathematical Physics',\n",
        "        'nucl-ex': 'Nuclear Experiment',\n",
        "        'nucl-th': 'Nuclear Theory',\n",
        "        'physics': 'Physics (misc.)',\n",
        "        'quant-ph': 'Quantum Physics'\n",
        "    }"
      ],
      "metadata": {
        "id": "BT7ZNtu0v1Lk"
      },
      "execution_count": 13,
      "outputs": []
    },
    {
      "cell_type": "code",
      "source": [
        "# Data Collection - Fetch papers from arXiv for physics categories\n",
        "def fetch_papers(max_results_per_category=1000):\n",
        "    client = arxiv.Client()\n",
        "    all_papers = []\n",
        "\n",
        "    for category in tqdm(Config.CATEGORIES.keys()):\n",
        "        try:\n",
        "            search = arxiv.Search(\n",
        "                query=f\"cat:{category}\",\n",
        "                max_results=max_results_per_category,\n",
        "                sort_by=arxiv.SortCriterion.SubmittedDate\n",
        "            )\n",
        "            results = client.results(search)\n",
        "\n",
        "            for paper in results:\n",
        "                paper_dict = {\n",
        "                    'title': paper.title,\n",
        "                    'abstract': paper.summary,\n",
        "                    'category': category\n",
        "                }\n",
        "                all_papers.append(paper_dict)\n",
        "\n",
        "            time.sleep(3)\n",
        "\n",
        "        except Exception as e:\n",
        "            print(f\"Error fetching category {category}: {str(e)}\")\n",
        "            continue\n",
        "\n",
        "    return pd.DataFrame(all_papers)"
      ],
      "metadata": {
        "id": "tnnjpBNuv3ZP"
      },
      "execution_count": 14,
      "outputs": []
    },
    {
      "cell_type": "code",
      "source": [
        "# Data Collection and Initial Exploration\n",
        "print(\"Loading saved papers from pickle file...\")\n",
        "try:\n",
        "    df = pd.read_pickle('physics_papers.pkl')\n",
        "    print(f\"Successfully loaded {len(df)} papers from saved file.\")\n",
        "except FileNotFoundError:\n",
        "    print(\"Saved file not found. Fetching papers from arXiv...\")\n",
        "    df = fetch_papers(max_results_per_category=1000)\n",
        "    # Save the data\n",
        "    df.to_pickle('physics_papers.pkl')"
      ],
      "metadata": {
        "colab": {
          "base_uri": "https://localhost:8080/"
        },
        "id": "2r0x15fpwORR",
        "outputId": "d6cf755e-689e-4228-aad6-3f48eb575bb9"
      },
      "execution_count": 15,
      "outputs": [
        {
          "output_type": "stream",
          "name": "stdout",
          "text": [
            "Loading saved papers from pickle file...\n",
            "Successfully loaded 11000 papers from saved file.\n"
          ]
        }
      ]
    },
    {
      "cell_type": "code",
      "source": [
        "# Datased checks\n",
        "print(\"\\nDataset Overview:\")\n",
        "print(\"-\" * 50)\n",
        "print(f\"Total papers: {len(df)}\")\n",
        "print(\"\\nPapers per category:\")\n",
        "print(df['category'].value_counts())"
      ],
      "metadata": {
        "colab": {
          "base_uri": "https://localhost:8080/"
        },
        "id": "T1pS5dhoxQno",
        "outputId": "ae3175a9-9e87-4673-b19b-cdd7f7272c48"
      },
      "execution_count": 16,
      "outputs": [
        {
          "output_type": "stream",
          "name": "stdout",
          "text": [
            "\n",
            "Dataset Overview:\n",
            "--------------------------------------------------\n",
            "Total papers: 11000\n",
            "\n",
            "Papers per category:\n",
            "category\n",
            "astro-ph    1000\n",
            "cond-mat    1000\n",
            "gr-qc       1000\n",
            "hep-ex      1000\n",
            "hep-lat     1000\n",
            "hep-ph      1000\n",
            "hep-th      1000\n",
            "math-ph     1000\n",
            "nucl-ex     1000\n",
            "nucl-th     1000\n",
            "quant-ph    1000\n",
            "Name: count, dtype: int64\n"
          ]
        }
      ]
    },
    {
      "cell_type": "code",
      "source": [
        "# Distribution of papers across categories\n",
        "plt.figure(figsize=(10, 5))\n",
        "sns.countplot(data=df, x='category')\n",
        "plt.title('Distribution of Papers Across Physics Categories')\n",
        "plt.xticks(rotation=45)\n",
        "plt.tight_layout()\n",
        "plt.show()"
      ],
      "metadata": {
        "colab": {
          "base_uri": "https://localhost:8080/",
          "height": 507
        },
        "id": "1_aGH-UIxSDE",
        "outputId": "3c0c6fc3-73c5-410d-f593-13754e89212d"
      },
      "execution_count": 17,
      "outputs": [
        {
          "output_type": "display_data",
          "data": {
            "text/plain": [
              "<Figure size 1000x500 with 1 Axes>"
            ],
            "image/png": "[encoded data removed]"
          },
          "metadata": {}
        }
      ]
    },
    {
      "cell_type": "code",
      "source": [
        "# Sample\n",
        "print(\"\\nSample Paper:\")\n",
        "print(\"-\" * 50)\n",
        "sample_idx = np.random.randint(len(df))\n",
        "print(f\"Title: {df.iloc[sample_idx]['title']}\")\n",
        "print(f\"Category: {df.iloc[sample_idx]['category']} ({Config.CATEGORIES[df.iloc[sample_idx]['category']]})\")\n",
        "print(f\"\\nAbstract snippet: {df.iloc[sample_idx]['abstract'][:300]}...\")"
      ],
      "metadata": {
        "colab": {
          "base_uri": "https://localhost:8080/"
        },
        "id": "nLTZi5pox2U8",
        "outputId": "7197325d-5f7e-47ff-deaf-403880000ad9"
      },
      "execution_count": 18,
      "outputs": [
        {
          "output_type": "stream",
          "name": "stdout",
          "text": [
            "\n",
            "Sample Paper:\n",
            "--------------------------------------------------\n",
            "Title: Simulating black hole quantum dynamics on an optical lattice using the complex Sachdev-Ye-Kitaev model\n",
            "Category: gr-qc (General Relativity and Quantum Cosmology)\n",
            "\n",
            "Abstract snippet: We propose a low energy model for simulating an analog black hole on an\n",
            "optical lattice using ultracold atoms. Assuming the validity of the holographic\n",
            "principle, we employ the Sachdev-Ye-Kitaev (SYK) model, which describes a\n",
            "system of randomly infinite range interacting fermions, also conjectured t...\n"
          ]
        }
      ]
    },
    {
      "cell_type": "code",
      "source": [
        "# Dataset info\n",
        "print(\"\\nDataset Information:\")\n",
        "print(\"-\" * 50)\n",
        "print(df.info())"
      ],
      "metadata": {
        "colab": {
          "base_uri": "https://localhost:8080/"
        },
        "id": "MQBIFHnTyXjg",
        "outputId": "5db25712-c468-46f5-c884-a36ab72177ca"
      },
      "execution_count": 19,
      "outputs": [
        {
          "output_type": "stream",
          "name": "stdout",
          "text": [
            "\n",
            "Dataset Information:\n",
            "--------------------------------------------------\n",
            "<class 'pandas.core.frame.DataFrame'>\n",
            "RangeIndex: 11000 entries, 0 to 10999\n",
            "Data columns (total 3 columns):\n",
            " #   Column    Non-Null Count  Dtype \n",
            "---  ------    --------------  ----- \n",
            " 0   title     11000 non-null  object\n",
            " 1   abstract  11000 non-null  object\n",
            " 2   category  11000 non-null  object\n",
            "dtypes: object(3)\n",
            "memory usage: 257.9+ KB\n",
            "None\n"
          ]
        }
      ]
    },
    {
      "cell_type": "code",
      "source": [
        "# Check missing values\n",
        "print(\"\\nMissing Values:\")\n",
        "print(\"-\" * 50)\n",
        "print(df.isnull().sum())"
      ],
      "metadata": {
        "colab": {
          "base_uri": "https://localhost:8080/"
        },
        "id": "0XuwtU_ZyetC",
        "outputId": "343c0b48-af47-493f-a581-7a5f9171e56b"
      },
      "execution_count": 20,
      "outputs": [
        {
          "output_type": "stream",
          "name": "stdout",
          "text": [
            "\n",
            "Missing Values:\n",
            "--------------------------------------------------\n",
            "title       0\n",
            "abstract    0\n",
            "category    0\n",
            "dtype: int64\n"
          ]
        }
      ]
    },
    {
      "cell_type": "code",
      "source": [
        "# Clean and preprocess text\n",
        "def preprocess_text(text):\n",
        "    # Remove URLs\n",
        "    text = re.sub(r'http\\S+|www\\S+|https\\S+', '', text)\n",
        "\n",
        "    # Remove LaTeX equations (text between $ or $$)\n",
        "    text = re.sub(r'\\$+[^$]*\\$+', '', text)\n",
        "\n",
        "    # Remove special characters but keep basic punctuation\n",
        "    text = re.sub(r'[^A-Za-z0-9\\s.,!?-]', '', text)\n",
        "\n",
        "    # Remove extra whitespace\n",
        "    text = ' '.join(text.split())\n",
        "\n",
        "    return text"
      ],
      "metadata": {
        "id": "pkw5RV3W3Efo"
      },
      "execution_count": 21,
      "outputs": []
    },
    {
      "cell_type": "code",
      "source": [
        "# Combine title and abstract for full text representation\n",
        "print(\"Preprocessing text...\")\n",
        "df['text'] = df['title'] + \" \" + df['abstract']\n",
        "df['processed_text'] = df['text'].apply(preprocess_text)"
      ],
      "metadata": {
        "colab": {
          "base_uri": "https://localhost:8080/"
        },
        "id": "h0ZYMQsB3JeZ",
        "outputId": "7cd12760-839b-481c-c8e2-b651f46a3699"
      },
      "execution_count": 22,
      "outputs": [
        {
          "output_type": "stream",
          "name": "stdout",
          "text": [
            "Preprocessing text...\n"
          ]
        }
      ]
    },
    {
      "cell_type": "code",
      "source": [
        "# Initialize SciBERT\n",
        "print(\"Loading SciBERT...\")\n",
        "tokenizer = AutoTokenizer.from_pretrained(Config.MODEL_NAME)\n",
        "model = AutoModel.from_pretrained(Config.MODEL_NAME).to(device)"
      ],
      "metadata": {
        "colab": {
          "base_uri": "https://localhost:8080/",
          "height": 255,
          "referenced_widgets": [
            "1593c1a9c1c4450c8b32c420fa83f0d1",
            "559b567f49024fafb405087107779009",
            "f068a3cbce3344cbb45688c0bde2494a",
            "19ae83848f1a4c62bd69494f0075e6b9",
            "f8ecb5aa3aba4cc2ac76060c9d06ebde",
            "824328d0950041cd85f127f621f9f414",
            "657cf245e47840c5990e6f77972290f2",
            "4986e0730757429492207d1fa4509c7d",
            "219c60ced4104b04a0fccaefda77bd47",
            "ea20471d36fb4af3a168abd80384052d",
            "3e2c47c60450442ca5058ed2de0a7b19",
            "7e1db2ee34da48589f39d82f5178bb6f",
            "9e8d6b81f26f48298f9ea150da2d38b2",
            "ca0c7dd740b4473d9a356254359abf99",
            "7e19dabafbf54975bc82d4f4ef849ab7",
            "67a099115fc0437185b1b30bf9d03a11",
            "3dda5288c95f4360b17723eb780b7435",
            "792a74f768e54df89bfe4fb735750897",
            "b2a899b2e9f34cccb98dc32cfd5bad8c",
            "64d76ba06c554ca2ae3bc60ae4c6c35b",
            "8c4b78802a1c42b485f74bbd404d5bca",
            "0f06ee88bf9041a5bcfc28b7633d9979",
            "5b21b41b82a94ec88f79eecf3c9b4984",
            "b106334737fc4b769b0a6030d8250e06",
            "edb72df9361449a6a642fd6e5007042c",
            "ad7db83a76804fbaafe4fafc591ddc48",
            "c49bc4f0463a4051911c720a31e4351b",
            "9b40cb9e6f804f25b87f7165b47abcec",
            "6d9b1f698a7c4e0fb2a30677e3bcd434",
            "c2596fa5651d4f84b342030136b819bf",
            "813f0732308c4715b5d6abf02afed9cb",
            "cd29fe058859452eb792220628cbe6c8",
            "609281a83cef4209b6aee03bcbceab5a"
          ]
        },
        "id": "YU4IR00f3MhI",
        "outputId": "c873f169-fed1-4ade-ff72-90719b89e7ad"
      },
      "execution_count": 23,
      "outputs": [
        {
          "output_type": "stream",
          "name": "stdout",
          "text": [
            "Loading SciBERT...\n"
          ]
        },
        {
          "output_type": "stream",
          "name": "stderr",
          "text": [
            "/usr/local/lib/python3.10/dist-packages/huggingface_hub/utils/_auth.py:94: UserWarning: \n",
            "The secret `HF_TOKEN` does not exist in your Colab secrets.\n",
            "To authenticate with the Hugging Face Hub, create a token in your settings tab (https://huggingface.co/settings/tokens), set it as secret in your Google Colab and restart your session.\n",
            "You will be able to reuse this secret in all of your notebooks.\n",
            "Please note that authentication is recommended but still optional to access public models or datasets.\n",
            "  warnings.warn(\n"
          ]
        },
        {
          "output_type": "display_data",
          "data": {
            "text/plain": [
              "config.json:   0%|          | 0.00/385 [00:00<?, ?B/s]"
            ],
            "application/vnd.jupyter.widget-view+json": {
              "version_major": 2,
              "version_minor": 0,
              "model_id": "1593c1a9c1c4450c8b32c420fa83f0d1"
            }
          },
          "metadata": {}
        },
        {
          "output_type": "display_data",
          "data": {
            "text/plain": [
              "vocab.txt:   0%|          | 0.00/228k [00:00<?, ?B/s]"
            ],
            "application/vnd.jupyter.widget-view+json": {
              "version_major": 2,
              "version_minor": 0,
              "model_id": "7e1db2ee34da48589f39d82f5178bb6f"
            }
          },
          "metadata": {}
        },
        {
          "output_type": "display_data",
          "data": {
            "text/plain": [
              "pytorch_model.bin:   0%|          | 0.00/442M [00:00<?, ?B/s]"
            ],
            "application/vnd.jupyter.widget-view+json": {
              "version_major": 2,
              "version_minor": 0,
              "model_id": "5b21b41b82a94ec88f79eecf3c9b4984"
            }
          },
          "metadata": {}
        }
      ]
    },
    {
      "cell_type": "code",
      "source": [
        "import os\n",
        "# Generate SciBERT embeddings for a list of texts\n",
        "def get_embeddings(texts, batch_size=64):  # Increased batch size\n",
        "    # Check cache first\n",
        "    cache_file = 'embeddings_cache.npy'\n",
        "    if os.path.exists(cache_file):\n",
        "        print(\"Loading cached embeddings...\")\n",
        "        return np.load(cache_file)\n",
        "\n",
        "    print(\"Generating new embeddings...\")\n",
        "\n",
        "    # Move model to GPU if available\n",
        "    device = torch.device('cuda' if torch.cuda.is_available() else 'cpu')\n",
        "    model.to(device)\n",
        "    print(f\"Using device: {device}\")\n",
        "\n",
        "    # Pre-calculate total number of batches for tqdm\n",
        "    total_batches = len(range(0, len(texts), batch_size))\n",
        "\n",
        "    # Initialize list with known final size for better memory efficiency\n",
        "    embeddings = []\n",
        "\n",
        "    for i in tqdm(range(0, len(texts), batch_size), total=total_batches, desc=\"Generating embeddings\"):\n",
        "        batch_texts = texts[i:i + batch_size]\n",
        "        encoded = tokenizer(\n",
        "            batch_texts,\n",
        "            padding=True,\n",
        "            truncation=True,\n",
        "            max_length=Config.MAX_LENGTH,\n",
        "            return_tensors='pt'\n",
        "        )\n",
        "\n",
        "        # Move batch to GPU if available\n",
        "        encoded = {k: v.to(device) for k, v in encoded.items()}\n",
        "\n",
        "        with torch.no_grad():\n",
        "            outputs = model(**encoded)\n",
        "            # Move to CPU before converting to numpy\n",
        "            batch_embeddings = outputs.last_hidden_state[:, 0, :].cpu().numpy()\n",
        "            embeddings.extend(batch_embeddings)\n",
        "\n",
        "        # Clear CUDA cache periodically\n",
        "        if device.type == 'cuda' and i % (batch_size * 10) == 0:\n",
        "            torch.cuda.empty_cache()\n",
        "\n",
        "    embeddings = np.array(embeddings)\n",
        "\n",
        "    # Cache the results\n",
        "    print(\"Saving embeddings to cache...\")\n",
        "    np.save(cache_file, embeddings)\n",
        "\n",
        "    return embeddings"
      ],
      "metadata": {
        "id": "ghIyXg5M71Mn"
      },
      "execution_count": 24,
      "outputs": []
    },
    {
      "cell_type": "code",
      "source": [
        "# Load or generate embeddings\n",
        "print(\"Loading embeddings...\")\n",
        "try:\n",
        "    embeddings = np.load('paper_embeddings.npy')\n",
        "    print(f\"Successfully loaded embeddings with shape {embeddings.shape}\")\n",
        "except FileNotFoundError:\n",
        "    print(\"Saved embeddings not found. Generating new embeddings...\")\n",
        "    embeddings = get_embeddings(df['processed_text'].tolist())\n",
        "    # Save the embeddings\n",
        "    print(\"Saving embeddings...\")\n",
        "    np.save('paper_embeddings.npy', embeddings)"
      ],
      "metadata": {
        "colab": {
          "base_uri": "https://localhost:8080/"
        },
        "collapsed": true,
        "id": "2a2H0Pkm3TI_",
        "outputId": "ae022609-637b-4221-ada9-1112b6ad9ddc"
      },
      "execution_count": 25,
      "outputs": [
        {
          "output_type": "stream",
          "name": "stdout",
          "text": [
            "Loading embeddings...\n",
            "Successfully loaded embeddings with shape (11000, 768)\n"
          ]
        }
      ]
    },
    {
      "cell_type": "code",
      "source": [
        "# Display sample preprocessed text\n",
        "print(\"\\nSample Preprocessed Text:\")\n",
        "print(\"-\" * 50)\n",
        "print(\"Original:\")\n",
        "print(df.iloc[sample_idx]['text'][:200])\n",
        "print(\"\\nProcessed:\")\n",
        "print(df.iloc[sample_idx]['processed_text'][:200])"
      ],
      "metadata": {
        "colab": {
          "base_uri": "https://localhost:8080/"
        },
        "id": "jguLc5g43dvi",
        "outputId": "ee3fe604-2861-4445-e5f4-fd96fa33ea4a"
      },
      "execution_count": 26,
      "outputs": [
        {
          "output_type": "stream",
          "name": "stdout",
          "text": [
            "\n",
            "Sample Preprocessed Text:\n",
            "--------------------------------------------------\n",
            "Original:\n",
            "Simulating black hole quantum dynamics on an optical lattice using the complex Sachdev-Ye-Kitaev model We propose a low energy model for simulating an analog black hole on an\n",
            "optical lattice using ult\n",
            "\n",
            "Processed:\n",
            "Simulating black hole quantum dynamics on an optical lattice using the complex Sachdev-Ye-Kitaev model We propose a low energy model for simulating an analog black hole on an optical lattice using ult\n"
          ]
        }
      ]
    },
    {
      "cell_type": "code",
      "source": [
        "# Display embedding shape\n",
        "print(\"\\nEmbedding Shape:\", embeddings.shape) # Should be (num_papers, 768) for SciBERT"
      ],
      "metadata": {
        "colab": {
          "base_uri": "https://localhost:8080/"
        },
        "id": "c_HoFHlJ3fVx",
        "outputId": "ff6fb831-8f8d-452e-8fc6-2e653db4c3fc"
      },
      "execution_count": 27,
      "outputs": [
        {
          "output_type": "stream",
          "name": "stdout",
          "text": [
            "\n",
            "Embedding Shape: (11000, 768)\n"
          ]
        }
      ]
    },
    {
      "cell_type": "markdown",
      "source": [
        "## Classifying papers into categories"
      ],
      "metadata": {
        "id": "GjGSSDCm8BS7"
      }
    },
    {
      "cell_type": "code",
      "source": [
        "# Split Data and Train Classifier\n",
        "print(\"Preparing data for classification...\")\n",
        "X = embeddings   # Our features (paper embeddings)\n",
        "y = df['category']  # Our labels (paper categories)\n",
        "\n",
        "# Convert category names to numbers (e.g., 'astro-ph' → 0)\n",
        "label_encoder = LabelEncoder()\n",
        "y_encoded = label_encoder.fit_transform(y)\n",
        "\n",
        "# Split into training and test sets\n",
        "X_train, X_test, y_train, y_test = train_test_split(\n",
        "    X, y_encoded,\n",
        "    test_size=Config.TEST_SIZE,\n",
        "    random_state=Config.RANDOM_SEED,\n",
        "    stratify=y_encoded\n",
        ")"
      ],
      "metadata": {
        "colab": {
          "base_uri": "https://localhost:8080/"
        },
        "id": "u1UWgibP50g_",
        "outputId": "da279bff-1d9e-492d-be49-28452bf5d5fb"
      },
      "execution_count": 28,
      "outputs": [
        {
          "output_type": "stream",
          "name": "stdout",
          "text": [
            "Preparing data for classification...\n"
          ]
        }
      ]
    },
    {
      "cell_type": "code",
      "source": [
        "# 1. Compare Multiple Classifiers\n",
        "print(\"\\nComparing Different Classifiers:\")\n",
        "print(\"-\" * 50)\n",
        "\n",
        "from sklearn.ensemble import RandomForestClassifier\n",
        "from sklearn.neural_network import MLPClassifier\n",
        "from sklearn.model_selection import cross_val_score\n",
        "from sklearn.preprocessing import StandardScaler\n",
        "import warnings\n",
        "warnings.filterwarnings('ignore')  # Suppress warnings for cleaner output\n",
        "\n",
        "# Scale the features for better neural network performance\n",
        "scaler = StandardScaler()\n",
        "X_scaled = scaler.fit_transform(X)\n",
        "X_train_scaled = scaler.transform(X_train)\n",
        "X_test_scaled = scaler.transform(X_test)\n",
        "\n",
        "classifiers = {\n",
        "    'Logistic Regression': LogisticRegression(\n",
        "        max_iter=2000,  # Reduced iterations\n",
        "        C=0.1,\n",
        "        class_weight='balanced',\n",
        "        random_state=Config.RANDOM_SEED,\n",
        "        n_jobs=-1  # Use all cores for faster training\n",
        "    ),\n",
        "    'Random Forest': RandomForestClassifier(\n",
        "        n_estimators=100,  # Further reduced estimators\n",
        "        max_depth=20,      # Reduced depth\n",
        "        min_samples_split=5,\n",
        "        class_weight='balanced',\n",
        "        n_jobs=-1,  # Use all cores in Colab\n",
        "        random_state=Config.RANDOM_SEED\n",
        "    ),\n",
        "    'Neural Network': MLPClassifier(\n",
        "        hidden_layer_sizes=(256, 128),  # Simplified architecture\n",
        "        max_iter=1000,     # Reduced iterations\n",
        "        early_stopping=True,\n",
        "        validation_fraction=0.1,\n",
        "        learning_rate='adaptive',\n",
        "        random_state=Config.RANDOM_SEED\n",
        "    )\n",
        "}\n",
        "\n",
        "# Train and evaluate each classifier\n",
        "results = {}\n",
        "best_classifier = None\n",
        "best_cv_score = 0\n",
        "\n",
        "# Use fewer CV folds\n",
        "N_FOLDS = 3  # Reduced from 5\n",
        "\n",
        "for name, clf in classifiers.items():\n",
        "    print(f\"\\nTraining {name}...\")\n",
        "\n",
        "    # Use scaled data for Neural Network, raw data for others\n",
        "    if name == 'Neural Network':\n",
        "        X_train_current = X_train_scaled\n",
        "        X_test_current = X_test_scaled\n",
        "        X_cv = X_scaled\n",
        "    else:\n",
        "        X_train_current = X_train\n",
        "        X_test_current = X_test\n",
        "        X_cv = X\n",
        "\n",
        "    # Fit the model\n",
        "    clf.fit(X_train_current, y_train)\n",
        "\n",
        "    # Get predictions and accuracy\n",
        "    y_pred = clf.predict(X_test_current)\n",
        "    accuracy = accuracy_score(y_test, y_pred)\n",
        "\n",
        "    # Perform cross-validation with fewer folds\n",
        "    cv_scores = cross_val_score(clf, X_cv, y_encoded, cv=N_FOLDS)\n",
        "    avg_cv_score = cv_scores.mean()\n",
        "\n",
        "    # Store results\n",
        "    results[name] = {\n",
        "        'accuracy': accuracy,\n",
        "        'cv_score': avg_cv_score,\n",
        "        'cv_std': cv_scores.std()\n",
        "    }\n",
        "\n",
        "    print(f\"{name} Test Accuracy: {accuracy:.4f}\")\n",
        "    print(f\"{name} CV Score: {avg_cv_score:.4f} (+/- {cv_scores.std() * 2:.4f})\")\n",
        "    print(\"\\nClassification Report:\")\n",
        "    print(classification_report(y_test, y_pred, target_names=label_encoder.classes_))\n",
        "\n",
        "    if avg_cv_score > best_cv_score:\n",
        "        best_cv_score = avg_cv_score\n",
        "        best_classifier = clf\n",
        "        best_name = name\n",
        "\n",
        "# Print final results\n",
        "print(\"\\nFinal Results:\")\n",
        "print(\"-\" * 50)\n",
        "for name, metrics in results.items():\n",
        "    print(f\"{name}:\")\n",
        "    print(f\"  Test Accuracy: {metrics['accuracy']:.4f}\")\n",
        "    print(f\"  CV Score: {metrics['cv_score']:.4f} (+/- {metrics['cv_std'] * 2:.4f})\")\n",
        "\n",
        "print(f\"\\nBest Model: {best_name}\")\n",
        "print(f\"Best Cross-Validation Score: {best_cv_score:.4f}\")"
      ],
      "metadata": {
        "colab": {
          "base_uri": "https://localhost:8080/"
        },
        "id": "IgdmtKoN6mwb",
        "outputId": "237c4f4e-7e67-4559-d004-28bf1bad8d5d"
      },
      "execution_count": 29,
      "outputs": [
        {
          "output_type": "stream",
          "name": "stdout",
          "text": [
            "\n",
            "Comparing Different Classifiers:\n",
            "--------------------------------------------------\n",
            "\n",
            "Training Logistic Regression...\n",
            "Logistic Regression Test Accuracy: 0.5386\n",
            "Logistic Regression CV Score: 0.5544 (+/- 0.0196)\n",
            "\n",
            "Classification Report:\n",
            "              precision    recall  f1-score   support\n",
            "\n",
            "    astro-ph       0.82      0.82      0.82       200\n",
            "    cond-mat       0.75      0.76      0.75       200\n",
            "       gr-qc       0.51      0.52      0.52       200\n",
            "      hep-ex       0.43      0.43      0.43       200\n",
            "     hep-lat       0.58      0.65      0.61       200\n",
            "      hep-ph       0.32      0.30      0.31       200\n",
            "      hep-th       0.37      0.33      0.35       200\n",
            "     math-ph       0.61      0.66      0.63       200\n",
            "     nucl-ex       0.41      0.41      0.41       200\n",
            "     nucl-th       0.36      0.33      0.34       200\n",
            "    quant-ph       0.70      0.71      0.71       200\n",
            "\n",
            "    accuracy                           0.54      2200\n",
            "   macro avg       0.53      0.54      0.54      2200\n",
            "weighted avg       0.53      0.54      0.54      2200\n",
            "\n",
            "\n",
            "Training Random Forest...\n",
            "Random Forest Test Accuracy: 0.4295\n",
            "Random Forest CV Score: 0.4600 (+/- 0.0195)\n",
            "\n",
            "Classification Report:\n",
            "              precision    recall  f1-score   support\n",
            "\n",
            "    astro-ph       0.78      0.81      0.79       200\n",
            "    cond-mat       0.67      0.73      0.70       200\n",
            "       gr-qc       0.35      0.28      0.31       200\n",
            "      hep-ex       0.35      0.37      0.36       200\n",
            "     hep-lat       0.48      0.45      0.46       200\n",
            "      hep-ph       0.18      0.16      0.17       200\n",
            "      hep-th       0.19      0.19      0.19       200\n",
            "     math-ph       0.50      0.53      0.51       200\n",
            "     nucl-ex       0.31      0.32      0.31       200\n",
            "     nucl-th       0.21      0.18      0.20       200\n",
            "    quant-ph       0.58      0.70      0.63       200\n",
            "\n",
            "    accuracy                           0.43      2200\n",
            "   macro avg       0.42      0.43      0.42      2200\n",
            "weighted avg       0.42      0.43      0.42      2200\n",
            "\n",
            "\n",
            "Training Neural Network...\n",
            "Neural Network Test Accuracy: 0.5241\n",
            "Neural Network CV Score: 0.5420 (+/- 0.0099)\n",
            "\n",
            "Classification Report:\n",
            "              precision    recall  f1-score   support\n",
            "\n",
            "    astro-ph       0.77      0.82      0.79       200\n",
            "    cond-mat       0.67      0.72      0.69       200\n",
            "       gr-qc       0.54      0.41      0.47       200\n",
            "      hep-ex       0.41      0.51      0.45       200\n",
            "     hep-lat       0.51      0.61      0.56       200\n",
            "      hep-ph       0.34      0.23      0.27       200\n",
            "      hep-th       0.39      0.38      0.38       200\n",
            "     math-ph       0.59      0.58      0.58       200\n",
            "     nucl-ex       0.42      0.38      0.40       200\n",
            "     nucl-th       0.37      0.40      0.38       200\n",
            "    quant-ph       0.68      0.73      0.71       200\n",
            "\n",
            "    accuracy                           0.52      2200\n",
            "   macro avg       0.52      0.52      0.52      2200\n",
            "weighted avg       0.52      0.52      0.52      2200\n",
            "\n",
            "\n",
            "Final Results:\n",
            "--------------------------------------------------\n",
            "Logistic Regression:\n",
            "  Test Accuracy: 0.5386\n",
            "  CV Score: 0.5544 (+/- 0.0196)\n",
            "Random Forest:\n",
            "  Test Accuracy: 0.4295\n",
            "  CV Score: 0.4600 (+/- 0.0195)\n",
            "Neural Network:\n",
            "  Test Accuracy: 0.5241\n",
            "  CV Score: 0.5420 (+/- 0.0099)\n",
            "\n",
            "Best Model: Logistic Regression\n",
            "Best Cross-Validation Score: 0.5544\n"
          ]
        }
      ]
    },
    {
      "cell_type": "code",
      "source": [
        "# 3. Error Analysis\n",
        "print(\"\\nPerforming Error Analysis:\")\n",
        "print(\"-\" * 50)\n",
        "\n",
        "def analyze_errors(y_true, y_pred, df, test_indices, label_encoder):\n",
        "    \"\"\"Analyze misclassified papers\"\"\"\n",
        "    mistakes = y_true != y_pred\n",
        "    error_indices = np.where(mistakes)[0]\n",
        "\n",
        "    print(f\"\\nTotal errors: {len(error_indices)}\")\n",
        "    print(\"\\nSample of misclassified papers:\")\n",
        "    for idx in error_indices[:5]:  # Show first 5 errors\n",
        "        print(\"\\n\" + \"=\"*50)\n",
        "        print(f\"Predicted: {label_encoder.inverse_transform([y_pred[idx]])[0]}\")\n",
        "        print(f\"Actual: {label_encoder.inverse_transform([y_true[idx]])[0]}\")\n",
        "        print(f\"\\nTitle: {df['title'].iloc[test_indices[idx]]}\")\n",
        "        print(f\"\\nAbstract snippet: {df['abstract'].iloc[test_indices[idx]][:200]}...\")\n",
        "\n",
        "# Keep track of indices during train_test_split\n",
        "indices = np.arange(len(X))\n",
        "X_train, X_test, y_train, y_test, train_idx, test_idx = train_test_split(\n",
        "    X, y_encoded, indices,\n",
        "    test_size=Config.TEST_SIZE,\n",
        "    random_state=Config.RANDOM_SEED,\n",
        "    stratify=y_encoded\n",
        ")\n",
        "\n",
        "# Get predictions from best classifier\n",
        "y_pred_best = best_classifier.predict(X_test)\n",
        "analyze_errors(y_test, y_pred_best, df, test_idx, label_encoder)\n",
        "\n",
        "# Save best model\n",
        "print(\"\\nSaving best model...\")\n",
        "model_data = {\n",
        "    'classifier': best_classifier,\n",
        "    'label_encoder': label_encoder,\n",
        "    'config': Config,\n",
        "    'comparison_results': results\n",
        "}\n",
        "with open('physics_classifier.pkl', 'wb') as f:\n",
        "    pickle.dump(model_data, f)\n",
        "\n",
        "print(\"\\nClassification analysis complete!\")"
      ],
      "metadata": {
        "colab": {
          "base_uri": "https://localhost:8080/"
        },
        "id": "jjRNl9tB6o0B",
        "outputId": "1531475d-3fe2-4b0c-949e-0df2557a6813"
      },
      "execution_count": 31,
      "outputs": [
        {
          "output_type": "stream",
          "name": "stdout",
          "text": [
            "\n",
            "Performing Error Analysis:\n",
            "--------------------------------------------------\n",
            "\n",
            "Total errors: 1015\n",
            "\n",
            "Sample of misclassified papers:\n",
            "\n",
            "==================================================\n",
            "Predicted: hep-lat\n",
            "Actual: nucl-th\n",
            "\n",
            "Title: Effects of threshold resummation for large-$x$ PDF in large momentum effective theory\n",
            "\n",
            "Abstract snippet: Parton distribution functions (PDFs) at large $x$ are challenging to extract\n",
            "from experimental data, yet they are essential for understanding hadron\n",
            "structure and searching for new physics beyond the ...\n",
            "\n",
            "==================================================\n",
            "Predicted: nucl-ex\n",
            "Actual: hep-ex\n",
            "\n",
            "Title: Global Extraction of the $\\rm^{12}C$ Nuclear Electromagnetic Response Functions (${\\cal R}_L$ and ${\\cal R}_T$) and Comparisons to Nuclear Theory and Neutrino/Electron Monte Carlo Generators\n",
            "\n",
            "Abstract snippet: We have performed a global extraction of the ${\\rm ^{12}C}$ longitudinal\n",
            "(${\\cal R}_L$) and transverse (${\\cal R}_T$) nuclear electromagnetic response\n",
            "functions from an analysis of all available elect...\n",
            "\n",
            "==================================================\n",
            "Predicted: hep-ph\n",
            "Actual: hep-th\n",
            "\n",
            "Title: A functional treatment of small instanton-induced axion potentials\n",
            "\n",
            "Abstract snippet: We present a functional method to perform complete one-instanton calculations\n",
            "of the axion potential. This is done for an $SU(N)$ gauge theory with a matter\n",
            "content in any representation of the gauge ...\n",
            "\n",
            "==================================================\n",
            "Predicted: nucl-th\n",
            "Actual: hep-ex\n",
            "\n",
            "Title: Sketching pion and proton mass distributions\n",
            "\n",
            "Abstract snippet: A light-front holographic model is used to illustrate an algebraic scheme for\n",
            "constructing a representation of a hadron's zero-skewness generalised parton\n",
            "distribution (GPD) from its valence-quark dis...\n",
            "\n",
            "==================================================\n",
            "Predicted: gr-qc\n",
            "Actual: hep-th\n",
            "\n",
            "Title: UV Effects and Short-Lived Hawking Radiation: Alternative Resolution of Information Paradox\n",
            "\n",
            "Abstract snippet: This chapter suggests an alternative solution to the black-hole information\n",
            "paradox by proposing that Hawking radiation ceases around the scrambling time\n",
            "due to trans-Planckian effects inherent in str...\n",
            "\n",
            "Saving best model...\n",
            "\n",
            "Classification analysis complete!\n"
          ]
        }
      ]
    },
    {
      "cell_type": "markdown",
      "source": [
        "## Based on one paper, find similar ones"
      ],
      "metadata": {
        "id": "HMh3deqU8KZn"
      }
    },
    {
      "cell_type": "code",
      "source": [
        "# 2. Similarity Search Function\n",
        "def find_similar_papers(query_idx, top_k=5):\n",
        "    # Find similar papers given a query paper index\n",
        "    query_embedding = embeddings[query_idx]\n",
        "\n",
        "    # Compute cosine similarity\n",
        "    similarities = np.dot(embeddings, query_embedding) / (\n",
        "        np.linalg.norm(embeddings, axis=1) * np.linalg.norm(query_embedding)\n",
        "    )\n",
        "\n",
        "    # Get top k similar papers (excluding the query paper itself)\n",
        "    similar_indices = np.argsort(similarities)[-top_k-1:-1][::-1]\n",
        "\n",
        "    return df.iloc[similar_indices], similarities[similar_indices]"
      ],
      "metadata": {
        "id": "iNRHCag26pkM"
      },
      "execution_count": 34,
      "outputs": []
    },
    {
      "cell_type": "code",
      "source": [
        "# Test similarity search\n",
        "print(\"\\nTesting Similarity Search:\")\n",
        "print(\"-\" * 50)\n",
        "sample_idx = np.random.randint(len(df))\n",
        "print(f\"Query Paper: {df.iloc[sample_idx]['title']}\")\n",
        "print(f\"Category: {df.iloc[sample_idx]['category']}\")"
      ],
      "metadata": {
        "colab": {
          "base_uri": "https://localhost:8080/"
        },
        "id": "iLM-cJ3-6sHe",
        "outputId": "e2b7c30c-e717-4b2a-94fc-b7b733610a6b"
      },
      "execution_count": 35,
      "outputs": [
        {
          "output_type": "stream",
          "name": "stdout",
          "text": [
            "\n",
            "Testing Similarity Search:\n",
            "--------------------------------------------------\n",
            "Query Paper: Kondo lattice model with a direct exchange interaction between localized moments\n",
            "Category: cond-mat\n"
          ]
        }
      ]
    },
    {
      "cell_type": "code",
      "source": [
        "similar_papers, similarities = find_similar_papers(sample_idx)\n",
        "print(\"\\nMost Similar Papers:\")\n",
        "for i, (_, paper) in enumerate(similar_papers.iterrows()):\n",
        "    print(f\"\\n{i+1}. {paper['title']}\")\n",
        "    print(f\"Category: {paper['category']}\")\n",
        "    print(f\"Similarity: {similarities[i]:.4f}\")"
      ],
      "metadata": {
        "colab": {
          "base_uri": "https://localhost:8080/"
        },
        "id": "TBvYNzJa6ums",
        "outputId": "d3df4d42-33d4-4bf4-a57a-a8b34341a68a"
      },
      "execution_count": 36,
      "outputs": [
        {
          "output_type": "stream",
          "name": "stdout",
          "text": [
            "\n",
            "Most Similar Papers:\n",
            "\n",
            "1. Effects of disorder in two-dimensional quantum antiferromagnets\n",
            "Category: cond-mat\n",
            "Similarity: 0.9251\n",
            "\n",
            "2. Resonance Kondo Tunneling through a Double Quantum Dot at Finite Bias\n",
            "Category: cond-mat\n",
            "Similarity: 0.9231\n",
            "\n",
            "3. Two-particle localization and antiresonance in disordered spin and qubit chains\n",
            "Category: cond-mat\n",
            "Similarity: 0.9207\n",
            "\n",
            "4. The effect of charm quark on chiral phase transition in $N_f=2+1+1$ holographic QCD\n",
            "Category: hep-lat\n",
            "Similarity: 0.9170\n",
            "\n",
            "5. Jost solutions and quantum conserved quantities of an integrable derivative nonlinear Schrodinger model\n",
            "Category: cond-mat\n",
            "Similarity: 0.9163\n"
          ]
        }
      ]
    },
    {
      "cell_type": "markdown",
      "source": [
        "## Saving everything\n"
      ],
      "metadata": {
        "id": "2UoujNwY8Zar"
      }
    },
    {
      "cell_type": "code",
      "source": [
        "# Save trained model and encoders\n",
        "print(\"\\nSaving model and encoders...\")\n",
        "model_data = {\n",
        "    'classifier': best_classifier,  # Changed from classifier to best_classifier\n",
        "    'label_encoder': label_encoder,\n",
        "    'config': Config\n",
        "}\n",
        "with open('physics_classifier.pkl', 'wb') as f:\n",
        "    pickle.dump(model_data, f)\n",
        "\n",
        "print(\"Done! All components are ready for the Streamlit interface.\")"
      ],
      "metadata": {
        "colab": {
          "base_uri": "https://localhost:8080/"
        },
        "id": "hXUeEu4H67JZ",
        "outputId": "1efab2ca-edd0-4e37-88f0-d46f9c66785d"
      },
      "execution_count": 37,
      "outputs": [
        {
          "output_type": "stream",
          "name": "stdout",
          "text": [
            "\n",
            "Saving model and encoders...\n",
            "Done! All components are ready for the Streamlit interface.\n"
          ]
        }
      ]
    },
    {
      "cell_type": "code",
      "source": [
        "# Save all required files\n",
        "files_to_save = {\n",
        "    'model': 'physics_classifier.pkl',\n",
        "    'embeddings': 'paper_embeddings.npy',\n",
        "    'papers': 'papers_df.pkl'\n",
        "}\n",
        "\n",
        "with open(files_to_save['model'], 'wb') as f:\n",
        "    pickle.dump({\n",
        "        'classifier': best_classifier,\n",
        "        'label_encoder': label_encoder\n",
        "    }, f)\n",
        "\n",
        "np.save(files_to_save['embeddings'], embeddings)\n",
        "df.to_pickle(files_to_save['papers'])"
      ],
      "metadata": {
        "id": "-ZcBtgzRJLAW"
      },
      "execution_count": 38,
      "outputs": []
    },
    {
      "cell_type": "code",
      "source": [
        "!pip install streamlit pyngrok"
      ],
      "metadata": {
        "colab": {
          "base_uri": "https://localhost:8080/"
        },
        "collapsed": true,
        "id": "KNMkV432N9y5",
        "outputId": "fd93a22e-e44d-4f33-c723-fc01358e1ce7"
      },
      "execution_count": 39,
      "outputs": [
        {
          "output_type": "stream",
          "name": "stdout",
          "text": [
            "Collecting streamlit\n",
            "  Downloading streamlit-1.40.1-py2.py3-none-any.whl.metadata (8.5 kB)\n",
            "Collecting pyngrok\n",
            "  Downloading pyngrok-7.2.1-py3-none-any.whl.metadata (8.3 kB)\n",
            "Requirement already satisfied: altair<6,>=4.0 in /usr/local/lib/python3.10/dist-packages (from streamlit) (4.2.2)\n",
            "Requirement already satisfied: blinker<2,>=1.0.0 in /usr/local/lib/python3.10/dist-packages (from streamlit) (1.9.0)\n",
            "Requirement already satisfied: cachetools<6,>=4.0 in /usr/local/lib/python3.10/dist-packages (from streamlit) (5.5.0)\n",
            "Requirement already satisfied: click<9,>=7.0 in /usr/local/lib/python3.10/dist-packages (from streamlit) (8.1.7)\n",
            "Requirement already satisfied: numpy<3,>=1.20 in /usr/local/lib/python3.10/dist-packages (from streamlit) (1.26.4)\n",
            "Requirement already satisfied: packaging<25,>=20 in /usr/local/lib/python3.10/dist-packages (from streamlit) (24.2)\n",
            "Requirement already satisfied: pandas<3,>=1.4.0 in /usr/local/lib/python3.10/dist-packages (from streamlit) (2.2.2)\n",
            "Requirement already satisfied: pillow<12,>=7.1.0 in /usr/local/lib/python3.10/dist-packages (from streamlit) (11.0.0)\n",
            "Requirement already satisfied: protobuf<6,>=3.20 in /usr/local/lib/python3.10/dist-packages (from streamlit) (4.25.5)\n",
            "Requirement already satisfied: pyarrow>=7.0 in /usr/local/lib/python3.10/dist-packages (from streamlit) (17.0.0)\n",
            "Requirement already satisfied: requests<3,>=2.27 in /usr/local/lib/python3.10/dist-packages (from streamlit) (2.32.3)\n",
            "Requirement already satisfied: rich<14,>=10.14.0 in /usr/local/lib/python3.10/dist-packages (from streamlit) (13.9.4)\n",
            "Requirement already satisfied: tenacity<10,>=8.1.0 in /usr/local/lib/python3.10/dist-packages (from streamlit) (9.0.0)\n",
            "Requirement already satisfied: toml<2,>=0.10.1 in /usr/local/lib/python3.10/dist-packages (from streamlit) (0.10.2)\n",
            "Requirement already satisfied: typing-extensions<5,>=4.3.0 in /usr/local/lib/python3.10/dist-packages (from streamlit) (4.12.2)\n",
            "Requirement already satisfied: gitpython!=3.1.19,<4,>=3.0.7 in /usr/local/lib/python3.10/dist-packages (from streamlit) (3.1.43)\n",
            "Collecting pydeck<1,>=0.8.0b4 (from streamlit)\n",
            "  Downloading pydeck-0.9.1-py2.py3-none-any.whl.metadata (4.1 kB)\n",
            "Requirement already satisfied: tornado<7,>=6.0.3 in /usr/local/lib/python3.10/dist-packages (from streamlit) (6.3.3)\n",
            "Collecting watchdog<7,>=2.1.5 (from streamlit)\n",
            "  Downloading watchdog-6.0.0-py3-none-manylinux2014_x86_64.whl.metadata (44 kB)\n",
            "\u001b[2K     \u001b[90m━━━━━━━━━━━━━━━━━━━━━━━━━━━━━━━━━━━━━━━━\u001b[0m \u001b[32m44.3/44.3 kB\u001b[0m \u001b[31m1.6 MB/s\u001b[0m eta \u001b[36m0:00:00\u001b[0m\n",
            "\u001b[?25hRequirement already satisfied: PyYAML>=5.1 in /usr/local/lib/python3.10/dist-packages (from pyngrok) (6.0.2)\n",
            "Requirement already satisfied: entrypoints in /usr/local/lib/python3.10/dist-packages (from altair<6,>=4.0->streamlit) (0.4)\n",
            "Requirement already satisfied: jinja2 in /usr/local/lib/python3.10/dist-packages (from altair<6,>=4.0->streamlit) (3.1.4)\n",
            "Requirement already satisfied: jsonschema>=3.0 in /usr/local/lib/python3.10/dist-packages (from altair<6,>=4.0->streamlit) (4.23.0)\n",
            "Requirement already satisfied: toolz in /usr/local/lib/python3.10/dist-packages (from altair<6,>=4.0->streamlit) (0.12.1)\n",
            "Requirement already satisfied: gitdb<5,>=4.0.1 in /usr/local/lib/python3.10/dist-packages (from gitpython!=3.1.19,<4,>=3.0.7->streamlit) (4.0.11)\n",
            "Requirement already satisfied: python-dateutil>=2.8.2 in /usr/local/lib/python3.10/dist-packages (from pandas<3,>=1.4.0->streamlit) (2.8.2)\n",
            "Requirement already satisfied: pytz>=2020.1 in /usr/local/lib/python3.10/dist-packages (from pandas<3,>=1.4.0->streamlit) (2024.2)\n",
            "Requirement already satisfied: tzdata>=2022.7 in /usr/local/lib/python3.10/dist-packages (from pandas<3,>=1.4.0->streamlit) (2024.2)\n",
            "Requirement already satisfied: charset-normalizer<4,>=2 in /usr/local/lib/python3.10/dist-packages (from requests<3,>=2.27->streamlit) (3.4.0)\n",
            "Requirement already satisfied: idna<4,>=2.5 in /usr/local/lib/python3.10/dist-packages (from requests<3,>=2.27->streamlit) (3.10)\n",
            "Requirement already satisfied: urllib3<3,>=1.21.1 in /usr/local/lib/python3.10/dist-packages (from requests<3,>=2.27->streamlit) (2.2.3)\n",
            "Requirement already satisfied: certifi>=2017.4.17 in /usr/local/lib/python3.10/dist-packages (from requests<3,>=2.27->streamlit) (2024.8.30)\n",
            "Requirement already satisfied: markdown-it-py>=2.2.0 in /usr/local/lib/python3.10/dist-packages (from rich<14,>=10.14.0->streamlit) (3.0.0)\n",
            "Requirement already satisfied: pygments<3.0.0,>=2.13.0 in /usr/local/lib/python3.10/dist-packages (from rich<14,>=10.14.0->streamlit) (2.18.0)\n",
            "Requirement already satisfied: smmap<6,>=3.0.1 in /usr/local/lib/python3.10/dist-packages (from gitdb<5,>=4.0.1->gitpython!=3.1.19,<4,>=3.0.7->streamlit) (5.0.1)\n",
            "Requirement already satisfied: MarkupSafe>=2.0 in /usr/local/lib/python3.10/dist-packages (from jinja2->altair<6,>=4.0->streamlit) (3.0.2)\n",
            "Requirement already satisfied: attrs>=22.2.0 in /usr/local/lib/python3.10/dist-packages (from jsonschema>=3.0->altair<6,>=4.0->streamlit) (24.2.0)\n",
            "Requirement already satisfied: jsonschema-specifications>=2023.03.6 in /usr/local/lib/python3.10/dist-packages (from jsonschema>=3.0->altair<6,>=4.0->streamlit) (2024.10.1)\n",
            "Requirement already satisfied: referencing>=0.28.4 in /usr/local/lib/python3.10/dist-packages (from jsonschema>=3.0->altair<6,>=4.0->streamlit) (0.35.1)\n",
            "Requirement already satisfied: rpds-py>=0.7.1 in /usr/local/lib/python3.10/dist-packages (from jsonschema>=3.0->altair<6,>=4.0->streamlit) (0.21.0)\n",
            "Requirement already satisfied: mdurl~=0.1 in /usr/local/lib/python3.10/dist-packages (from markdown-it-py>=2.2.0->rich<14,>=10.14.0->streamlit) (0.1.2)\n",
            "Requirement already satisfied: six>=1.5 in /usr/local/lib/python3.10/dist-packages (from python-dateutil>=2.8.2->pandas<3,>=1.4.0->streamlit) (1.16.0)\n",
            "Downloading streamlit-1.40.1-py2.py3-none-any.whl (8.6 MB)\n",
            "\u001b[2K   \u001b[90m━━━━━━━━━━━━━━━━━━━━━━━━━━━━━━━━━━━━━━━━\u001b[0m \u001b[32m8.6/8.6 MB\u001b[0m \u001b[31m45.5 MB/s\u001b[0m eta \u001b[36m0:00:00\u001b[0m\n",
            "\u001b[?25hDownloading pyngrok-7.2.1-py3-none-any.whl (22 kB)\n",
            "Downloading pydeck-0.9.1-py2.py3-none-any.whl (6.9 MB)\n",
            "\u001b[2K   \u001b[90m━━━━━━━━━━━━━━━━━━━━━━━━━━━━━━━━━━━━━━━━\u001b[0m \u001b[32m6.9/6.9 MB\u001b[0m \u001b[31m71.1 MB/s\u001b[0m eta \u001b[36m0:00:00\u001b[0m\n",
            "\u001b[?25hDownloading watchdog-6.0.0-py3-none-manylinux2014_x86_64.whl (79 kB)\n",
            "\u001b[2K   \u001b[90m━━━━━━━━━━━━━━━━━━━━━━━━━━━━━━━━━━━━━━━━\u001b[0m \u001b[32m79.1/79.1 kB\u001b[0m \u001b[31m4.6 MB/s\u001b[0m eta \u001b[36m0:00:00\u001b[0m\n",
            "\u001b[?25hInstalling collected packages: watchdog, pyngrok, pydeck, streamlit\n",
            "Successfully installed pydeck-0.9.1 pyngrok-7.2.1 streamlit-1.40.1 watchdog-6.0.0\n"
          ]
        }
      ]
    },
    {
      "cell_type": "code",
      "source": [
        "# Set your auth token (only needs to be done once per session)\n",
        "!ngrok authtoken 2oqSlpFa6kknymol15javDQcrCG_6zyZgBaCBLiQa1cE97goQ"
      ],
      "metadata": {
        "colab": {
          "base_uri": "https://localhost:8080/"
        },
        "id": "oFgX3hThHohR",
        "outputId": "108e5a57-33ad-4230-8ea0-6c5f22b83b95"
      },
      "execution_count": 40,
      "outputs": [
        {
          "output_type": "stream",
          "name": "stdout",
          "text": [
            "Authtoken saved to configuration file: /root/.config/ngrok/ngrok.yml\n"
          ]
        }
      ]
    },
    {
      "cell_type": "code",
      "source": [
        "from pyngrok import ngrok\n",
        "\n",
        "# Start ngrok tunnel on localhost port 8501 for the Streamlit app\n",
        "public_url = ngrok.connect(\"http://localhost:8501\")\n",
        "print(f\"Streamlit app URL: {public_url}\")"
      ],
      "metadata": {
        "colab": {
          "base_uri": "https://localhost:8080/"
        },
        "id": "EW1-Aw35L1-C",
        "outputId": "800fea24-d3b3-4693-e819-f2fd16513801"
      },
      "execution_count": 41,
      "outputs": [
        {
          "output_type": "stream",
          "name": "stdout",
          "text": [
            "Streamlit app URL: NgrokTunnel: \"https://231b-34-23-64-22.ngrok-free.app\" -> \"http://localhost:8501\"\n"
          ]
        }
      ]
    },
    {
      "cell_type": "code",
      "source": [
        "%%writefile streamlit_app.py\n",
        "import streamlit as st\n",
        "import pickle\n",
        "import os\n",
        "import numpy as np\n",
        "import pandas as pd\n",
        "import torch\n",
        "from transformers import AutoTokenizer, AutoModel\n",
        "\n",
        "# Configuration class\n",
        "class Config:\n",
        "    \"\"\"Configuration parameters for the application\"\"\"\n",
        "    MODEL_NAME = 'allenai/scibert_scivocab_uncased'\n",
        "    MAX_LENGTH = 512\n",
        "    BATCH_SIZE = 8\n",
        "    TEST_SIZE = 0.2\n",
        "    RANDOM_SEED = 42\n",
        "\n",
        "    # Physics categories\n",
        "    CATEGORIES = {\n",
        "        'astro-ph': 'Astrophysics',\n",
        "        'cond-mat': 'Condensed Matter',\n",
        "        'gr-qc': 'General Relativity and Quantum Cosmology',\n",
        "        'hep-ex': 'High Energy Physics - Experiment',\n",
        "        'hep-lat': 'High Energy Physics - Lattice',\n",
        "        'hep-ph': 'High Energy Physics - Phenomenology',\n",
        "        'hep-th': 'High Energy Physics - Theory',\n",
        "        'math-ph': 'Mathematical Physics',\n",
        "        'nucl-ex': 'Nuclear Experiment',\n",
        "        'nucl-th': 'Nuclear Theory',\n",
        "        'quant-ph': 'Quantum Physics'\n",
        "    }\n",
        "\n",
        "# Device configuration\n",
        "device = torch.device('cuda' if torch.cuda.is_available() else 'cpu')\n",
        "\n",
        "@st.cache_resource\n",
        "def load_resources():\n",
        "    \"\"\"Load or create all necessary resources for the app\"\"\"\n",
        "\n",
        "    # Initialize tokenizer and model\n",
        "    tokenizer = AutoTokenizer.from_pretrained(Config.MODEL_NAME)\n",
        "    model = AutoModel.from_pretrained(Config.MODEL_NAME)\n",
        "    model = model.to(device)\n",
        "    model.eval()\n",
        "\n",
        "    try:\n",
        "        # Try to load existing data\n",
        "        with open('physics_classifier.pkl', 'rb') as f:\n",
        "            model_data = pickle.load(f)\n",
        "        embeddings = np.load('paper_embeddings.npy')\n",
        "        papers_df = pd.read_pickle('papers_df.pkl')\n",
        "\n",
        "    except (FileNotFoundError, EOFError):\n",
        "        try:\n",
        "            # Try loading from GitHub if local files not found\n",
        "            model_data = load_from_github('physics_classifier.pkl')\n",
        "            embeddings = load_from_github('paper_embeddings.npy')\n",
        "            papers_df = load_from_github('papers_df.pkl')\n",
        "\n",
        "            if model_data is None or embeddings is None or papers_df is None:\n",
        "                # If still not found, fetch data and generate files\n",
        "                print(\"Fetching data and generating files...\")\n",
        "                papers_df = fetch_papers(max_results_per_category=1000)\n",
        "                embeddings = get_embeddings(papers_df['processed_text'].tolist())\n",
        "\n",
        "                # Train the model and save data\n",
        "                model_data = train_models(embeddings, papers_df)\n",
        "\n",
        "                # Save locally\n",
        "                papers_df.to_pickle('papers_df.pkl')\n",
        "                np.save('paper_embeddings.npy', embeddings)\n",
        "                with open('physics_classifier.pkl', 'wb') as f:\n",
        "                    pickle.dump(model_data, f)\n",
        "\n",
        "        except Exception as e:\n",
        "            print(f\"Error loading from GitHub: {e}\")\n",
        "            # Generate new data if GitHub loading fails\n",
        "            papers_df = fetch_papers(max_results_per_category=1000)\n",
        "            embeddings = get_embeddings(papers_df['processed_text'].tolist())\n",
        "            model_data = train_models(embeddings, papers_df)\n",
        "\n",
        "    return model_data, embeddings, papers_df, tokenizer, model\n",
        "\n",
        "def get_embedding(text, tokenizer, model):\n",
        "    encoded = tokenizer(\n",
        "        text,\n",
        "        padding=True,\n",
        "        truncation=True,\n",
        "        max_length=512,\n",
        "        return_tensors='pt'\n",
        "    )\n",
        "    with torch.no_grad():\n",
        "        outputs = model(**encoded)\n",
        "        return outputs.last_hidden_state[:, 0, :].numpy()[0]\n",
        "\n",
        "def find_similar_papers(query_embedding, embeddings, papers_df, top_k=5):\n",
        "    similarities = np.dot(embeddings, query_embedding) / (\n",
        "        np.linalg.norm(embeddings, axis=1) * np.linalg.norm(query_embedding)\n",
        "    )\n",
        "    top_indices = np.argsort(similarities)[-top_k:][::-1]\n",
        "    return papers_df.iloc[top_indices], similarities[top_indices]\n",
        "\n",
        "# Page config\n",
        "st.set_page_config(\n",
        "    page_title=\"Physics Paper Analyzer\",\n",
        "    page_icon=\"📚\",\n",
        "    layout=\"wide\"\n",
        ")\n",
        "\n",
        "# Main app\n",
        "st.title('Physics Paper Analyzer 📚')\n",
        "st.write('Enter a physics paper title and abstract to classify it and find similar papers.')\n",
        "\n",
        "# Load resources\n",
        "try:\n",
        "    model_data, embeddings, papers_df, tokenizer, model = load_resources()\n",
        "    classifier = model_data['classifier']\n",
        "    label_encoder = model_data['label_encoder']\n",
        "except ValueError as e:\n",
        "    st.error(f\"Error loading resources: {e}\")\n",
        "    st.stop()\n",
        "\n",
        "# Input fields\n",
        "abstract = st.text_area(\"Paper Abstract\", height=150)\n",
        "\n",
        "if st.button('Analyze Paper'):\n",
        "    if abstract:\n",
        "        with st.spinner('Analyzing paper...'):\n",
        "            # Get embedding and predictions\n",
        "            paper_embedding = get_embedding(abstract, tokenizer, model)\n",
        "            prediction = classifier.predict([paper_embedding])[0]\n",
        "            probabilities = classifier.predict_proba([paper_embedding])[0]\n",
        "\n",
        "            # Classification Results\n",
        "            st.subheader('Classification Results')\n",
        "            predicted_category = label_encoder.inverse_transform([prediction])[0]\n",
        "            st.markdown(f\"### Predicted Category: `{predicted_category}`\")\n",
        "\n",
        "            # Plot probabilities\n",
        "            prob_df = pd.DataFrame({\n",
        "                'Category': label_encoder.classes_,\n",
        "                'Probability': probabilities\n",
        "            }).sort_values('Probability', ascending=True)\n",
        "            st.bar_chart(prob_df.set_index('Category'))\n",
        "\n",
        "            # Similar Papers\n",
        "            st.subheader('Similar Papers')\n",
        "            similar_papers, similarities = find_similar_papers(paper_embedding, embeddings, papers_df)\n",
        "\n",
        "            for i, (_, paper) in enumerate(similar_papers.iterrows()):\n",
        "                expander_title = f\"{paper['title']}\"\n",
        "                with st.expander(expander_title, expanded=False):\n",
        "                    st.markdown(f\"**Category:** {paper['category']}\")\n",
        "                    st.markdown(f\"**Similarity Score:** {similarities[i]:.4f}\")\n",
        "                    st.markdown(\"**Abstract:**\")\n",
        "                    st.markdown(paper['abstract'])\n",
        "    else:\n",
        "        st.warning('Please enter an abstract.')"
      ],
      "metadata": {
        "colab": {
          "base_uri": "https://localhost:8080/"
        },
        "id": "8lfgnoP1N66K",
        "outputId": "f6e680b7-e654-4445-ea4b-30fdf654244a"
      },
      "execution_count": 48,
      "outputs": [
        {
          "output_type": "stream",
          "name": "stdout",
          "text": [
            "Overwriting streamlit_app.py\n"
          ]
        }
      ]
    },
    {
      "cell_type": "code",
      "source": [
        "!streamlit run streamlit_app.py &>/dev/null &\n"
      ],
      "metadata": {
        "id": "6zQQKqMUK4PD"
      },
      "execution_count": 49,
      "outputs": []
    }
  ]
}